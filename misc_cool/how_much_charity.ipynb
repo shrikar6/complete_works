{
 "cells": [
  {
   "cell_type": "code",
   "execution_count": null,
   "id": "564fa1f9",
   "metadata": {},
   "outputs": [],
   "source": [
    "\"\"\"\n",
    "This script calculates the percentage of your net worth that one should contribute to charity if they\n",
    "wanted to maximize their charitable givings over the course of their life.\n",
    "\n",
    "It simulates a 40‐year period where an individual’s net worth, salary, spending, and 401(k) contributions\n",
    "evolve over time under the influence of growth and inflation. Each year, after updating net worth based on\n",
    "income, spendings, and investment returns, a fixed percentage of the current net worth is donated to charity\n",
    "- which in turn reduces the net worth.\n",
    "\n",
    "Key steps in the simulation:\n",
    "1. Two parallel 40‐year simulations are run each iteration:\n",
    "   - One with the current charity donation rate.\n",
    "   - A second with a slightly higher rate (incremented by charity_rate/10000).\n",
    "2. The cumulative charity donations from these runs are compared to approximate the sensitivity\n",
    "   (i.e. the derivative) of total charity given with respect to the charity rate.\n",
    "3. This derivative is then used to adjust the charity rate (using a small update factor, 1e-9),\n",
    "   effectively implementing a gradient-like method to “optimize” the charity rate over 100 iterations.\n",
    "\"\"\""
   ]
  },
  {
   "cell_type": "code",
   "execution_count": null,
   "id": "dfb41ba6",
   "metadata": {},
   "outputs": [],
   "source": [
    "seed_net_worth = 300000\n",
    "seed_post_tax_salary = 100000\n",
    "seed_spendings = 60000\n",
    "curr_401k_additions = 25000*1.5\n",
    "\n",
    "savings_growth_rate = 1.1\n",
    "salary_growth_rate = 1.075\n",
    "spendings_growth_rate = salary_growth_rate/2\n",
    "charity_rate = 0.05\n",
    "\n",
    "inflation = 1.02\n",
    "\n",
    "for _ in range(10000):\n",
    "    # incremental change in charity rate\n",
    "    dcr = charity_rate / 10000\n",
    "\n",
    "    charity = 0\n",
    "    charity_with_dcr = 0\n",
    "\n",
    "    net_worth = seed_net_worth\n",
    "    net_worth_with_dcr = seed_net_worth\n",
    "\n",
    "    curr_post_tax_salary = seed_post_tax_salary\n",
    "    curr_spendings = seed_spendings\n",
    "\n",
    "    for i in range(40):\n",
    "        net_worth = (net_worth + curr_post_tax_salary - curr_spendings + curr_401k_additions)*savings_growth_rate/inflation\n",
    "        curr_charity = net_worth*charity_rate\n",
    "        charity += curr_charity\n",
    "        net_worth -= curr_charity\n",
    "\n",
    "        net_worth_with_dcr = (net_worth_with_dcr + curr_post_tax_salary - curr_spendings + curr_401k_additions)*savings_growth_rate/inflation\n",
    "        curr_charity = net_worth_with_dcr*(charity_rate+dcr)\n",
    "        charity_with_dcr += curr_charity\n",
    "        net_worth_with_dcr -= curr_charity\n",
    "\n",
    "        curr_post_tax_salary *= salary_growth_rate\n",
    "        curr_spendings *= spendings_growth_rate\n",
    "    \n",
    "    # diff charity wrt diff charity_rate\n",
    "    dcdcr = (charity_with_dcr - charity)/dcr\n",
    "    charity_rate += (1e-9)*dcdcr\n",
    "    print(charity_rate)"
   ]
  },
  {
   "cell_type": "code",
   "execution_count": 60,
   "id": "b0e6ca8d",
   "metadata": {},
   "outputs": [],
   "source": [
    "charity = 0\n",
    "net_worth = seed_net_worth\n",
    "charity_rate = 1\n",
    "curr_post_tax_salary = seed_post_tax_salary\n",
    "curr_spendings = seed_spendings\n",
    "for i in range(40):\n",
    "    net_worth = (net_worth + curr_post_tax_salary - curr_spendings + curr_401k_additions)*savings_growth_rate/inflation\n",
    "    curr_charity = net_worth*charity_rate\n",
    "    charity += curr_charity\n",
    "    net_worth -= curr_charity\n",
    "\n",
    "    curr_post_tax_salary *= salary_growth_rate\n",
    "    curr_spendings *= spendings_growth_rate"
   ]
  },
  {
   "cell_type": "code",
   "execution_count": null,
   "id": "bb37339e",
   "metadata": {},
   "outputs": [],
   "source": [
    "charity, net_worth"
   ]
  },
  {
   "cell_type": "code",
   "execution_count": null,
   "id": "f12226a8",
   "metadata": {},
   "outputs": [],
   "source": []
  }
 ],
 "metadata": {
  "kernelspec": {
   "display_name": "Python 3",
   "language": "python",
   "name": "python3"
  },
  "language_info": {
   "codemirror_mode": {
    "name": "ipython",
    "version": 3
   },
   "file_extension": ".py",
   "mimetype": "text/x-python",
   "name": "python",
   "nbconvert_exporter": "python",
   "pygments_lexer": "ipython3",
   "version": "3.12.1"
  }
 },
 "nbformat": 4,
 "nbformat_minor": 5
}
