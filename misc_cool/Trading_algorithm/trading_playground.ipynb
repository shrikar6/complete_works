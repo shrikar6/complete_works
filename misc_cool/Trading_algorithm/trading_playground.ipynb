{
 "cells": [
  {
   "cell_type": "code",
   "execution_count": 1,
   "metadata": {},
   "outputs": [
    {
     "ename": "ModuleNotFoundError",
     "evalue": "No module named 'pandas'",
     "output_type": "error",
     "traceback": [
      "\u001b[0;31m---------------------------------------------------------------------------\u001b[0m",
      "\u001b[0;31mModuleNotFoundError\u001b[0m                       Traceback (most recent call last)",
      "Cell \u001b[0;32mIn[1], line 2\u001b[0m\n\u001b[1;32m      1\u001b[0m \u001b[38;5;28;01mimport\u001b[39;00m \u001b[38;5;21;01mnumpy\u001b[39;00m \u001b[38;5;28;01mas\u001b[39;00m \u001b[38;5;21;01mnp\u001b[39;00m\n\u001b[0;32m----> 2\u001b[0m \u001b[38;5;28;01mimport\u001b[39;00m \u001b[38;5;21;01mpandas\u001b[39;00m \u001b[38;5;28;01mas\u001b[39;00m \u001b[38;5;21;01mpd\u001b[39;00m\n\u001b[1;32m      3\u001b[0m \u001b[38;5;28;01mimport\u001b[39;00m \u001b[38;5;21;01mpandas_ta\u001b[39;00m \u001b[38;5;28;01mas\u001b[39;00m \u001b[38;5;21;01mta\u001b[39;00m\n\u001b[1;32m      4\u001b[0m \u001b[38;5;28;01mimport\u001b[39;00m \u001b[38;5;21;01myfinance\u001b[39;00m\n",
      "\u001b[0;31mModuleNotFoundError\u001b[0m: No module named 'pandas'"
     ]
    }
   ],
   "source": [
    "import numpy as np\n",
    "import pandas as pd\n",
    "import pandas_ta as ta\n",
    "import yfinance\n",
    "import matplotlib.pyplot as plt\n",
    "import time\n",
    "import scipy.stats as st"
   ]
  },
  {
   "cell_type": "code",
   "execution_count": null,
   "metadata": {},
   "outputs": [],
   "source": [
    "df = pd.DataFrame()\n",
    "df = df.ta.ticker(\"spy\")\n",
    "df[\"newDate\"] = df.index\n",
    "df = df[df[\"newDate\"] >= \"2000-01-01\"]\n",
    "del df[\"newDate\"]\n",
    "df"
   ]
  },
  {
   "cell_type": "code",
   "execution_count": null,
   "metadata": {},
   "outputs": [],
   "source": [
    "df.ta.alma(length=3)"
   ]
  },
  {
   "cell_type": "code",
   "execution_count": 869,
   "metadata": {},
   "outputs": [],
   "source": [
    "df.ta.cores = 4\n",
    "# Accelerating bands\n",
    "# monies = []\n",
    "# for length in range(1,250):\n",
    "#     currmonies = []\n",
    "#     for j in range(1,100):\n",
    "#         mylength=length\n",
    "#         df2 = df.ta.accbands(length=length,c=j/10)\n",
    "#         currmoney = df[\"close\"][df.index[mylength-1]]\n",
    "#         lastclose = currmoney\n",
    "#         goingUp = True\n",
    "#         for date in df.index[mylength-1:]:\n",
    "#             if goingUp:\n",
    "#                 currmoney *= df[\"close\"][date] / lastclose\n",
    "#             lastclose = df[\"close\"][date]\n",
    "#             if df[\"high\"][date] >= df2[\"ACCBU_{}\".format(length)][date]:\n",
    "#                 goingUp = True\n",
    "#             else:\n",
    "#                 goingUp = False\n",
    "#         currmonies += [currmoney]\n",
    "#     monies += [currmonies]\n",
    "    \n",
    "# maxes = []\n",
    "# for i in range(len(monies[0])):\n",
    "#     maxes += [np.argmax([row[i] for row in monies])]\n",
    "\n",
    "# currmonies = []\n",
    "# for length in range(1,250):\n",
    "#     df2 = df.ta.accbands(length=length,c=(maxes[length-1]+1)/10,mamode='ema')\n",
    "#     money = []\n",
    "#     for mylength in range(length, len(df.index), 30):\n",
    "#         currmoney = df[\"close\"][df.index[mylength-1]]\n",
    "#         lastclose = currmoney\n",
    "#         goingUp = True\n",
    "#         for date in df.index[mylength-1:]:\n",
    "#             if goingUp:\n",
    "#                 currmoney *= df[\"close\"][date] / lastclose\n",
    "#             lastclose = df[\"close\"][date]\n",
    "#             if df[\"high\"][date] >= df2[\"ACCBU_{}\".format(length)][date]:\n",
    "#                 goingUp = True\n",
    "#             else:\n",
    "#                 goingUp = False\n",
    "#         money += [currmoney]\n",
    "#     currmonies += [sum(money)/len(money)]\n",
    "\n",
    "# Accumulation/distribution\n",
    "\n",
    "# currmonies = []\n",
    "# for offset in range(200):\n",
    "#     df2 = df.ta.ad(offset=offset)\n",
    "#     money = []\n",
    "#     for mylength in range(offset, len(df.index)//2, 30):\n",
    "#         currmoney = df[\"close\"][df.index[mylength]]\n",
    "#         lastclose = currmoney\n",
    "#         lastad = -np.inf\n",
    "#         goingUp = True\n",
    "#         for date in df.index[mylength:]:\n",
    "#             if goingUp:\n",
    "#                 currmoney *= df[\"close\"][date] / lastclose\n",
    "#             lastclose = df[\"close\"][date]\n",
    "#             if df2[date] >= lastad:\n",
    "#                 goingUp = True\n",
    "#             else:\n",
    "#                 goingUp = False\n",
    "#             lastad = df2[date]\n",
    "#         money += [currmoney]\n",
    "#     currmonies += [money]\n",
    "\n",
    "# Chaikin Oscillator\n",
    "\n",
    "# monies = []\n",
    "# fast = 43\n",
    "# for offset in range(200):\n",
    "#     currmonies = [0]*fast\n",
    "#     for slow in range(fast+1,200):\n",
    "#         df2 = df.ta.adosc(fast=fast,slow=slow,offset=offset)\n",
    "#         currmoney = df[\"close\"][df.index[slow-1+offset]]\n",
    "#         lastclose = currmoney\n",
    "#         goingUp = True\n",
    "#         for date in df.index[slow-1+offset:]:\n",
    "#             if goingUp:\n",
    "#                 currmoney *= df[\"close\"][date] / lastclose\n",
    "#             lastclose = df[\"close\"][date]\n",
    "#             if df2[date] < 0:\n",
    "#                 goingUp = False\n",
    "#             else:\n",
    "#                 goingUp = True\n",
    "#         currmonies += [currmoney]\n",
    "#     monies += [currmonies]\n",
    "\n",
    "# maxes = []\n",
    "# for i in monies:\n",
    "#     maxes += [np.argmax(i)]\n",
    "# max([monies[i][maxes[i]] for i in range(len(maxes))])\n",
    "\n",
    "# Average Directional Index\n",
    "# currmonies = []\n",
    "# length=79\n",
    "# lensig=13\n",
    "# scalar=70\n",
    "# drift=190\n",
    "# offset=0\n",
    "# df2 = df.ta.adx(length=length,lensig=lensig,scalar=scalar,drift=drift, offset=offset)\n",
    "# for mylength in range(length, len(df.index), 20):\n",
    "#     currmoney = df[\"close\"][df.index[mylength]]\n",
    "#     lastclose = currmoney\n",
    "#     goingUp = True\n",
    "#     for date in df.index[mylength:]:\n",
    "#         if goingUp:\n",
    "#             currmoney *= df[\"close\"][date] / lastclose\n",
    "#         lastclose = df[\"close\"][date]\n",
    "#         goingUp = not (df2[\"DMN_{}\".format(length)][date] > df2[\"DMP_{}\".format(length)][date] and df2[\"ADX_{}\".format(lensig)][date] >= 25)\n",
    "#     currmonies += [currmoney]\n",
    "\n",
    "# Arnaud Legoux Moving Average\n",
    "currmonies = np.zeros((10,10,10,10))\n",
    "# length=30\n",
    "# sigma=5\n",
    "# do=0.9\n",
    "# offset=90\n",
    "for length in range(20,40,2):\n",
    "    for sigma in range(40,60,2):\n",
    "        for do in range(80, 100, 2):\n",
    "            for offset in range(80, 100, 2):\n",
    "                df2 = df.ta.alma(length=length,sigma=sigma/10,distribution_offset=do/100,offset=offset)\n",
    "                mylength=length+1\n",
    "                currmoney = df[\"close\"][df.index[mylength+1]]\n",
    "                lastalma = df2[df.index[mylength]]\n",
    "                lastclose = currmoney\n",
    "                goingUp = True\n",
    "                for date in df.index[mylength+1:]:\n",
    "                    if goingUp:\n",
    "                        currmoney *= df[\"close\"][date] / lastclose\n",
    "                    lastclose = df[\"close\"][date]\n",
    "                    goingUp = df2[date] >= lastalma\n",
    "                    lastalma = df2[date]\n",
    "                currmonies[length//2 - 10, sigma//2 - 20, do//2 - 40, offset//2 - 40] = currmoney"
   ]
  },
  {
   "cell_type": "code",
   "execution_count": 858,
   "metadata": {},
   "outputs": [
    {
     "data": {
      "text/plain": [
       "[<matplotlib.lines.Line2D at 0x13039a850>]"
      ]
     },
     "execution_count": 858,
     "metadata": {},
     "output_type": "execute_result"
    },
    {
     "data": {
      "image/png": "[encoded data removed]",
      "text/plain": [
       "<Figure size 432x288 with 1 Axes>"
      ]
     },
     "metadata": {
      "needs_background": "light"
     },
     "output_type": "display_data"
    }
   ],
   "source": [
    "x = [i for i in range(len(monies))]\n",
    "# y1 = [st.norm.cdf((np.mean(monies[i])-df['close'][df.index[-1]])/np.std(monies[i])) for i in range(len(monies))]\n",
    "y1 = monies\n",
    "plt.plot(x,y1)"
   ]
  },
  {
   "cell_type": "code",
   "execution_count": null,
   "metadata": {},
   "outputs": [],
   "source": [
    "maxval = 0\n",
    "maxidx = (-1,-1,-1)\n",
    "for i in range(10):\n",
    "    for j in range(10):\n",
    "        for k in range(10):\n",
    "            val = st.norm.cdf((np.mean(currmonies[i,j,k,:])-df['close'][df.index[-1]])/np.std(currmonies[i,j,k,:]))\n",
    "            if maxval < val:\n",
    "                maxval = val\n",
    "                maxidx = (i, j, k)\n",
    "            print(\"sig: {}, do: {}, off: {}, {}\".format(i+1, j/10, k*10, val))"
   ]
  },
  {
   "cell_type": "code",
   "execution_count": 872,
   "metadata": {},
   "outputs": [
    {
     "data": {
      "text/plain": [
       "4446"
      ]
     },
     "execution_count": 872,
     "metadata": {},
     "output_type": "execute_result"
    }
   ],
   "source": []
  },
  {
   "cell_type": "code",
   "execution_count": 843,
   "metadata": {},
   "outputs": [
    {
     "data": {
      "text/plain": [
       "(1, 4, 9)"
      ]
     },
     "execution_count": 843,
     "metadata": {},
     "output_type": "execute_result"
    }
   ],
   "source": [
    "maxidx"
   ]
  },
  {
   "cell_type": "code",
   "execution_count": 862,
   "metadata": {},
   "outputs": [
    {
     "data": {
      "text/plain": [
       "0.8415762011289817"
      ]
     },
     "execution_count": 862,
     "metadata": {},
     "output_type": "execute_result"
    }
   ],
   "source": [
    "st.norm.cdf((np.mean(monies) - 420.04)/np.std(monies))"
   ]
  },
  {
   "cell_type": "code",
   "execution_count": 673,
   "metadata": {},
   "outputs": [
    {
     "ename": "IndexError",
     "evalue": "list index out of range",
     "output_type": "error",
     "traceback": [
      "\u001b[0;31m---------------------------------------------------------------------------\u001b[0m",
      "\u001b[0;31mIndexError\u001b[0m                                Traceback (most recent call last)",
      "\u001b[0;32m<ipython-input-673-a4825ec5bbca>\u001b[0m in \u001b[0;36m<module>\u001b[0;34m\u001b[0m\n\u001b[1;32m      1\u001b[0m \u001b[0mx\u001b[0m \u001b[0;34m=\u001b[0m \u001b[0;34m[\u001b[0m\u001b[0mi\u001b[0m \u001b[0;32mfor\u001b[0m \u001b[0mi\u001b[0m \u001b[0;32min\u001b[0m \u001b[0mrange\u001b[0m\u001b[0;34m(\u001b[0m\u001b[0mlen\u001b[0m\u001b[0;34m(\u001b[0m\u001b[0mmonies\u001b[0m\u001b[0;34m[\u001b[0m\u001b[0;34m-\u001b[0m\u001b[0;36m1\u001b[0m\u001b[0;34m]\u001b[0m\u001b[0;34m)\u001b[0m\u001b[0;34m)\u001b[0m\u001b[0;34m]\u001b[0m\u001b[0;34m\u001b[0m\u001b[0;34m\u001b[0m\u001b[0m\n\u001b[0;32m----> 2\u001b[0;31m \u001b[0my1\u001b[0m \u001b[0;34m=\u001b[0m \u001b[0;34m[\u001b[0m\u001b[0mst\u001b[0m\u001b[0;34m.\u001b[0m\u001b[0mnorm\u001b[0m\u001b[0;34m.\u001b[0m\u001b[0mcdf\u001b[0m\u001b[0;34m(\u001b[0m\u001b[0;34m(\u001b[0m\u001b[0mnp\u001b[0m\u001b[0;34m.\u001b[0m\u001b[0mmean\u001b[0m\u001b[0;34m(\u001b[0m\u001b[0;34m[\u001b[0m\u001b[0mmonies\u001b[0m\u001b[0;34m[\u001b[0m\u001b[0mj\u001b[0m\u001b[0;34m]\u001b[0m\u001b[0;34m[\u001b[0m\u001b[0mi\u001b[0m\u001b[0;34m]\u001b[0m \u001b[0;32mfor\u001b[0m \u001b[0mj\u001b[0m \u001b[0;32min\u001b[0m \u001b[0mrange\u001b[0m\u001b[0;34m(\u001b[0m\u001b[0mmax\u001b[0m\u001b[0;34m(\u001b[0m\u001b[0;36m0\u001b[0m\u001b[0;34m,\u001b[0m \u001b[0mi\u001b[0m\u001b[0;34m-\u001b[0m\u001b[0;36m34\u001b[0m\u001b[0;34m)\u001b[0m\u001b[0;34m,\u001b[0m \u001b[0mlen\u001b[0m\u001b[0;34m(\u001b[0m\u001b[0mmonies\u001b[0m\u001b[0;34m)\u001b[0m\u001b[0;34m)\u001b[0m\u001b[0;34m]\u001b[0m\u001b[0;34m)\u001b[0m\u001b[0;34m-\u001b[0m\u001b[0mdf\u001b[0m\u001b[0;34m[\u001b[0m\u001b[0;34m'close'\u001b[0m\u001b[0;34m]\u001b[0m\u001b[0;34m[\u001b[0m\u001b[0mdf\u001b[0m\u001b[0;34m.\u001b[0m\u001b[0mindex\u001b[0m\u001b[0;34m[\u001b[0m\u001b[0;34m-\u001b[0m\u001b[0;36m1\u001b[0m\u001b[0;34m]\u001b[0m\u001b[0;34m]\u001b[0m\u001b[0;34m)\u001b[0m\u001b[0;34m/\u001b[0m\u001b[0mnp\u001b[0m\u001b[0;34m.\u001b[0m\u001b[0mstd\u001b[0m\u001b[0;34m(\u001b[0m\u001b[0;34m[\u001b[0m\u001b[0mmonies\u001b[0m\u001b[0;34m[\u001b[0m\u001b[0mj\u001b[0m\u001b[0;34m]\u001b[0m\u001b[0;34m[\u001b[0m\u001b[0mi\u001b[0m\u001b[0;34m]\u001b[0m \u001b[0;32mfor\u001b[0m \u001b[0mj\u001b[0m \u001b[0;32min\u001b[0m \u001b[0mrange\u001b[0m\u001b[0;34m(\u001b[0m\u001b[0mmax\u001b[0m\u001b[0;34m(\u001b[0m\u001b[0;36m0\u001b[0m\u001b[0;34m,\u001b[0m \u001b[0mi\u001b[0m\u001b[0;34m-\u001b[0m\u001b[0;36m34\u001b[0m\u001b[0;34m)\u001b[0m\u001b[0;34m,\u001b[0m \u001b[0mlen\u001b[0m\u001b[0;34m(\u001b[0m\u001b[0mmonies\u001b[0m\u001b[0;34m)\u001b[0m\u001b[0;34m)\u001b[0m\u001b[0;34m]\u001b[0m\u001b[0;34m)\u001b[0m\u001b[0;34m)\u001b[0m \u001b[0;32mfor\u001b[0m \u001b[0mi\u001b[0m \u001b[0;32min\u001b[0m \u001b[0mrange\u001b[0m\u001b[0;34m(\u001b[0m\u001b[0mlen\u001b[0m\u001b[0;34m(\u001b[0m\u001b[0mmonies\u001b[0m\u001b[0;34m[\u001b[0m\u001b[0;34m-\u001b[0m\u001b[0;36m1\u001b[0m\u001b[0;34m]\u001b[0m\u001b[0;34m)\u001b[0m\u001b[0;34m)\u001b[0m\u001b[0;34m]\u001b[0m\u001b[0;34m\u001b[0m\u001b[0;34m\u001b[0m\u001b[0m\n\u001b[0m\u001b[1;32m      3\u001b[0m \u001b[0mplt\u001b[0m\u001b[0;34m.\u001b[0m\u001b[0mplot\u001b[0m\u001b[0;34m(\u001b[0m\u001b[0mx\u001b[0m\u001b[0;34m,\u001b[0m\u001b[0my1\u001b[0m\u001b[0;34m)\u001b[0m\u001b[0;34m\u001b[0m\u001b[0;34m\u001b[0m\u001b[0m\n",
      "\u001b[0;32m<ipython-input-673-a4825ec5bbca>\u001b[0m in \u001b[0;36m<listcomp>\u001b[0;34m(.0)\u001b[0m\n\u001b[1;32m      1\u001b[0m \u001b[0mx\u001b[0m \u001b[0;34m=\u001b[0m \u001b[0;34m[\u001b[0m\u001b[0mi\u001b[0m \u001b[0;32mfor\u001b[0m \u001b[0mi\u001b[0m \u001b[0;32min\u001b[0m \u001b[0mrange\u001b[0m\u001b[0;34m(\u001b[0m\u001b[0mlen\u001b[0m\u001b[0;34m(\u001b[0m\u001b[0mmonies\u001b[0m\u001b[0;34m[\u001b[0m\u001b[0;34m-\u001b[0m\u001b[0;36m1\u001b[0m\u001b[0;34m]\u001b[0m\u001b[0;34m)\u001b[0m\u001b[0;34m)\u001b[0m\u001b[0;34m]\u001b[0m\u001b[0;34m\u001b[0m\u001b[0;34m\u001b[0m\u001b[0m\n\u001b[0;32m----> 2\u001b[0;31m \u001b[0my1\u001b[0m \u001b[0;34m=\u001b[0m \u001b[0;34m[\u001b[0m\u001b[0mst\u001b[0m\u001b[0;34m.\u001b[0m\u001b[0mnorm\u001b[0m\u001b[0;34m.\u001b[0m\u001b[0mcdf\u001b[0m\u001b[0;34m(\u001b[0m\u001b[0;34m(\u001b[0m\u001b[0mnp\u001b[0m\u001b[0;34m.\u001b[0m\u001b[0mmean\u001b[0m\u001b[0;34m(\u001b[0m\u001b[0;34m[\u001b[0m\u001b[0mmonies\u001b[0m\u001b[0;34m[\u001b[0m\u001b[0mj\u001b[0m\u001b[0;34m]\u001b[0m\u001b[0;34m[\u001b[0m\u001b[0mi\u001b[0m\u001b[0;34m]\u001b[0m \u001b[0;32mfor\u001b[0m \u001b[0mj\u001b[0m \u001b[0;32min\u001b[0m \u001b[0mrange\u001b[0m\u001b[0;34m(\u001b[0m\u001b[0mmax\u001b[0m\u001b[0;34m(\u001b[0m\u001b[0;36m0\u001b[0m\u001b[0;34m,\u001b[0m \u001b[0mi\u001b[0m\u001b[0;34m-\u001b[0m\u001b[0;36m34\u001b[0m\u001b[0;34m)\u001b[0m\u001b[0;34m,\u001b[0m \u001b[0mlen\u001b[0m\u001b[0;34m(\u001b[0m\u001b[0mmonies\u001b[0m\u001b[0;34m)\u001b[0m\u001b[0;34m)\u001b[0m\u001b[0;34m]\u001b[0m\u001b[0;34m)\u001b[0m\u001b[0;34m-\u001b[0m\u001b[0mdf\u001b[0m\u001b[0;34m[\u001b[0m\u001b[0;34m'close'\u001b[0m\u001b[0;34m]\u001b[0m\u001b[0;34m[\u001b[0m\u001b[0mdf\u001b[0m\u001b[0;34m.\u001b[0m\u001b[0mindex\u001b[0m\u001b[0;34m[\u001b[0m\u001b[0;34m-\u001b[0m\u001b[0;36m1\u001b[0m\u001b[0;34m]\u001b[0m\u001b[0;34m]\u001b[0m\u001b[0;34m)\u001b[0m\u001b[0;34m/\u001b[0m\u001b[0mnp\u001b[0m\u001b[0;34m.\u001b[0m\u001b[0mstd\u001b[0m\u001b[0;34m(\u001b[0m\u001b[0;34m[\u001b[0m\u001b[0mmonies\u001b[0m\u001b[0;34m[\u001b[0m\u001b[0mj\u001b[0m\u001b[0;34m]\u001b[0m\u001b[0;34m[\u001b[0m\u001b[0mi\u001b[0m\u001b[0;34m]\u001b[0m \u001b[0;32mfor\u001b[0m \u001b[0mj\u001b[0m \u001b[0;32min\u001b[0m \u001b[0mrange\u001b[0m\u001b[0;34m(\u001b[0m\u001b[0mmax\u001b[0m\u001b[0;34m(\u001b[0m\u001b[0;36m0\u001b[0m\u001b[0;34m,\u001b[0m \u001b[0mi\u001b[0m\u001b[0;34m-\u001b[0m\u001b[0;36m34\u001b[0m\u001b[0;34m)\u001b[0m\u001b[0;34m,\u001b[0m \u001b[0mlen\u001b[0m\u001b[0;34m(\u001b[0m\u001b[0mmonies\u001b[0m\u001b[0;34m)\u001b[0m\u001b[0;34m)\u001b[0m\u001b[0;34m]\u001b[0m\u001b[0;34m)\u001b[0m\u001b[0;34m)\u001b[0m \u001b[0;32mfor\u001b[0m \u001b[0mi\u001b[0m \u001b[0;32min\u001b[0m \u001b[0mrange\u001b[0m\u001b[0;34m(\u001b[0m\u001b[0mlen\u001b[0m\u001b[0;34m(\u001b[0m\u001b[0mmonies\u001b[0m\u001b[0;34m[\u001b[0m\u001b[0;34m-\u001b[0m\u001b[0;36m1\u001b[0m\u001b[0;34m]\u001b[0m\u001b[0;34m)\u001b[0m\u001b[0;34m)\u001b[0m\u001b[0;34m]\u001b[0m\u001b[0;34m\u001b[0m\u001b[0;34m\u001b[0m\u001b[0m\n\u001b[0m\u001b[1;32m      3\u001b[0m \u001b[0mplt\u001b[0m\u001b[0;34m.\u001b[0m\u001b[0mplot\u001b[0m\u001b[0;34m(\u001b[0m\u001b[0mx\u001b[0m\u001b[0;34m,\u001b[0m\u001b[0my1\u001b[0m\u001b[0;34m)\u001b[0m\u001b[0;34m\u001b[0m\u001b[0;34m\u001b[0m\u001b[0m\n",
      "\u001b[0;32m<ipython-input-673-a4825ec5bbca>\u001b[0m in \u001b[0;36m<listcomp>\u001b[0;34m(.0)\u001b[0m\n\u001b[1;32m      1\u001b[0m \u001b[0mx\u001b[0m \u001b[0;34m=\u001b[0m \u001b[0;34m[\u001b[0m\u001b[0mi\u001b[0m \u001b[0;32mfor\u001b[0m \u001b[0mi\u001b[0m \u001b[0;32min\u001b[0m \u001b[0mrange\u001b[0m\u001b[0;34m(\u001b[0m\u001b[0mlen\u001b[0m\u001b[0;34m(\u001b[0m\u001b[0mmonies\u001b[0m\u001b[0;34m[\u001b[0m\u001b[0;34m-\u001b[0m\u001b[0;36m1\u001b[0m\u001b[0;34m]\u001b[0m\u001b[0;34m)\u001b[0m\u001b[0;34m)\u001b[0m\u001b[0;34m]\u001b[0m\u001b[0;34m\u001b[0m\u001b[0;34m\u001b[0m\u001b[0m\n\u001b[0;32m----> 2\u001b[0;31m \u001b[0my1\u001b[0m \u001b[0;34m=\u001b[0m \u001b[0;34m[\u001b[0m\u001b[0mst\u001b[0m\u001b[0;34m.\u001b[0m\u001b[0mnorm\u001b[0m\u001b[0;34m.\u001b[0m\u001b[0mcdf\u001b[0m\u001b[0;34m(\u001b[0m\u001b[0;34m(\u001b[0m\u001b[0mnp\u001b[0m\u001b[0;34m.\u001b[0m\u001b[0mmean\u001b[0m\u001b[0;34m(\u001b[0m\u001b[0;34m[\u001b[0m\u001b[0mmonies\u001b[0m\u001b[0;34m[\u001b[0m\u001b[0mj\u001b[0m\u001b[0;34m]\u001b[0m\u001b[0;34m[\u001b[0m\u001b[0mi\u001b[0m\u001b[0;34m]\u001b[0m \u001b[0;32mfor\u001b[0m \u001b[0mj\u001b[0m \u001b[0;32min\u001b[0m \u001b[0mrange\u001b[0m\u001b[0;34m(\u001b[0m\u001b[0mmax\u001b[0m\u001b[0;34m(\u001b[0m\u001b[0;36m0\u001b[0m\u001b[0;34m,\u001b[0m \u001b[0mi\u001b[0m\u001b[0;34m-\u001b[0m\u001b[0;36m34\u001b[0m\u001b[0;34m)\u001b[0m\u001b[0;34m,\u001b[0m \u001b[0mlen\u001b[0m\u001b[0;34m(\u001b[0m\u001b[0mmonies\u001b[0m\u001b[0;34m)\u001b[0m\u001b[0;34m)\u001b[0m\u001b[0;34m]\u001b[0m\u001b[0;34m)\u001b[0m\u001b[0;34m-\u001b[0m\u001b[0mdf\u001b[0m\u001b[0;34m[\u001b[0m\u001b[0;34m'close'\u001b[0m\u001b[0;34m]\u001b[0m\u001b[0;34m[\u001b[0m\u001b[0mdf\u001b[0m\u001b[0;34m.\u001b[0m\u001b[0mindex\u001b[0m\u001b[0;34m[\u001b[0m\u001b[0;34m-\u001b[0m\u001b[0;36m1\u001b[0m\u001b[0;34m]\u001b[0m\u001b[0;34m]\u001b[0m\u001b[0;34m)\u001b[0m\u001b[0;34m/\u001b[0m\u001b[0mnp\u001b[0m\u001b[0;34m.\u001b[0m\u001b[0mstd\u001b[0m\u001b[0;34m(\u001b[0m\u001b[0;34m[\u001b[0m\u001b[0mmonies\u001b[0m\u001b[0;34m[\u001b[0m\u001b[0mj\u001b[0m\u001b[0;34m]\u001b[0m\u001b[0;34m[\u001b[0m\u001b[0mi\u001b[0m\u001b[0;34m]\u001b[0m \u001b[0;32mfor\u001b[0m \u001b[0mj\u001b[0m \u001b[0;32min\u001b[0m \u001b[0mrange\u001b[0m\u001b[0;34m(\u001b[0m\u001b[0mmax\u001b[0m\u001b[0;34m(\u001b[0m\u001b[0;36m0\u001b[0m\u001b[0;34m,\u001b[0m \u001b[0mi\u001b[0m\u001b[0;34m-\u001b[0m\u001b[0;36m34\u001b[0m\u001b[0;34m)\u001b[0m\u001b[0;34m,\u001b[0m \u001b[0mlen\u001b[0m\u001b[0;34m(\u001b[0m\u001b[0mmonies\u001b[0m\u001b[0;34m)\u001b[0m\u001b[0;34m)\u001b[0m\u001b[0;34m]\u001b[0m\u001b[0;34m)\u001b[0m\u001b[0;34m)\u001b[0m \u001b[0;32mfor\u001b[0m \u001b[0mi\u001b[0m \u001b[0;32min\u001b[0m \u001b[0mrange\u001b[0m\u001b[0;34m(\u001b[0m\u001b[0mlen\u001b[0m\u001b[0;34m(\u001b[0m\u001b[0mmonies\u001b[0m\u001b[0;34m[\u001b[0m\u001b[0;34m-\u001b[0m\u001b[0;36m1\u001b[0m\u001b[0;34m]\u001b[0m\u001b[0;34m)\u001b[0m\u001b[0;34m)\u001b[0m\u001b[0;34m]\u001b[0m\u001b[0;34m\u001b[0m\u001b[0;34m\u001b[0m\u001b[0m\n\u001b[0m\u001b[1;32m      3\u001b[0m \u001b[0mplt\u001b[0m\u001b[0;34m.\u001b[0m\u001b[0mplot\u001b[0m\u001b[0;34m(\u001b[0m\u001b[0mx\u001b[0m\u001b[0;34m,\u001b[0m\u001b[0my1\u001b[0m\u001b[0;34m)\u001b[0m\u001b[0;34m\u001b[0m\u001b[0;34m\u001b[0m\u001b[0m\n",
      "\u001b[0;31mIndexError\u001b[0m: list index out of range"
     ]
    }
   ],
   "source": [
    "x = [i for i in range(len(monies[-1]))]\n",
    "y1 = [st.norm.cdf((np.mean([monies[j][i] for j in range(max(0, i-34), len(monies))])-df['close'][df.index[-1]])/np.std([monies[j][i] for j in range(max(0, i-34), len(monies))])) for i in range(len(monies[-1]))]\n",
    "plt.plot(x,y1)"
   ]
  },
  {
   "cell_type": "code",
   "execution_count": 629,
   "metadata": {},
   "outputs": [
    {
     "data": {
      "text/plain": [
       "40"
      ]
     },
     "execution_count": 629,
     "metadata": {},
     "output_type": "execute_result"
    }
   ],
   "source": [
    "np.argmax([st.norm.cdf((np.mean([monies[j][i] for j in range(max(0, i-34), len(monies))])-df['close'][df.index[-1]])/np.std([monies[j][i] for j in range(max(0, i-34), len(monies))])) for i in range(63)])"
   ]
  },
  {
   "cell_type": "code",
   "execution_count": 695,
   "metadata": {},
   "outputs": [
    {
     "data": {
      "text/plain": [
       "0.7976511080085017"
      ]
     },
     "execution_count": 695,
     "metadata": {},
     "output_type": "execute_result"
    }
   ],
   "source": [
    "st.norm.cdf((np.mean(currmonies)-df['close'][df.index[-1]])/(np.std(currmonies)))"
   ]
  },
  {
   "cell_type": "code",
   "execution_count": 499,
   "metadata": {},
   "outputs": [
    {
     "name": "stderr",
     "output_type": "stream",
     "text": [
      "<ipython-input-499-e8363c3c31f3>:1: RuntimeWarning: divide by zero encountered in double_scalars\n",
      "  a = [st.norm.cdf((np.mean(monies[i])-411.94)/np.std(monies[i])) for i in range(len(monies))]\n"
     ]
    }
   ],
   "source": [
    "a = [st.norm.cdf((np.mean(monies[i])-411.94)/np.std(monies[i])) for i in range(len(monies))]\n",
    "for i in range(len(a)):\n",
    "    if a[i] > 0.95:\n",
    "        print(i, a[i])"
   ]
  },
  {
   "cell_type": "code",
   "execution_count": 773,
   "metadata": {},
   "outputs": [
    {
     "name": "stdout",
     "output_type": "stream",
     "text": [
      "Pandas TA - Technical Analysis Indicators - v0.2.75b0\n",
      "Total Indicators: 198\n",
      "Abbreviations:\n",
      "    aberration, above, above_value, accbands, ad, adosc, adx, alma, amat, ao, aobv, apo, aroon, atr, bbands, below, below_value, bias, bop, brar, cci, cdl_pattern, cdl_z, cfo, cg, chop, cksp, cmf, cmo, coppock, cross, cross_value, cti, decay, decreasing, dema, donchian, dpo, ebsw, efi, ema, entropy, eom, er, eri, fisher, fwma, ha, hilo, hl2, hlc3, hma, hwc, hwma, ichimoku, increasing, inertia, kama, kc, kdj, kst, kurtosis, linreg, log_return, long_run, macd, mad, massi, mcgd, median, mfi, midpoint, midprice, mom, natr, nvi, obv, ohlc4, pdist, percent_return, pgo, ppo, psar, psl, pvi, pvo, pvol, pvr, pvt, pwma, qqe, qstick, quantile, rma, roc, rsi, rsx, rvgi, rvi, short_run, sinwma, skew, slope, sma, smi, squeeze, ssf, stc, stdev, stoch, stochrsi, supertrend, swma, t3, td_seq, tema, thermo, trima, trix, true_range, tsi, tsignals, ttm_trend, ui, uo, variance, vidya, vortex, vp, vwap, vwma, wcp, willr, wma, zlma, zscore\n",
      "\n",
      "Candle Patterns:\n",
      "    2crows, 3blackcrows, 3inside, 3linestrike, 3outside, 3starsinsouth, 3whitesoldiers, abandonedbaby, advanceblock, belthold, breakaway, closingmarubozu, concealbabyswall, counterattack, darkcloudcover, doji, dojistar, dragonflydoji, engulfing, eveningdojistar, eveningstar, gapsidesidewhite, gravestonedoji, hammer, hangingman, harami, haramicross, highwave, hikkake, hikkakemod, homingpigeon, identical3crows, inneck, inside, invertedhammer, kicking, kickingbylength, ladderbottom, longleggeddoji, longline, marubozu, matchinglow, mathold, morningdojistar, morningstar, onneck, piercing, rickshawman, risefall3methods, separatinglines, shootingstar, shortline, spinningtop, stalledpattern, sticksandwich, takuri, tasukigap, thrusting, tristar, unique3river, upsidegap2crows, xsidegap3methods\n",
      "Help on function alma in module pandas_ta.overlap.alma:\n",
      "\n",
      "alma(close, length=None, sigma=None, distribution_offset=None, offset=None, **kwargs)\n",
      "    Arnaud Legoux Moving Average (ALMA)\n",
      "    \n",
      "    The ALMA moving average uses the curve of the Normal (Gauss) distribution, which\n",
      "    can be shifted from 0 to 1. This allows regulating the smoothness and high\n",
      "    sensitivity of the indicator. Sigma is another parameter that is responsible for\n",
      "    the shape of the curve coefficients. This moving average reduces lag of the data\n",
      "    in conjunction with smoothing to reduce noise.\n",
      "    \n",
      "    Implemented for Pandas TA by rengel8 based on the source provided below.\n",
      "    \n",
      "    Sources:\n",
      "        https://www.prorealcode.com/prorealtime-indicators/alma-arnaud-legoux-moving-average/\n",
      "    \n",
      "    Calculation:\n",
      "        refer to provided source\n",
      "    \n",
      "    Args:\n",
      "        close (pd.Series): Series of 'close's\n",
      "        length (int): It's period, window size. Default: 10\n",
      "        sigma (float): Smoothing value. Default 6.0\n",
      "        distribution_offset (float): Value to offset the distribution min 0\n",
      "            (smoother), max 1 (more responsive). Default 0.85\n",
      "        offset (int): How many periods to offset the result. Default: 0\n",
      "    \n",
      "    Kwargs:\n",
      "        fillna (value, optional): pd.DataFrame.fillna(value)\n",
      "        fill_method (value, optional): Type of fill method\n",
      "    \n",
      "    Returns:\n",
      "        pd.Series: New feature generated.\n",
      "\n"
     ]
    }
   ],
   "source": [
    "df.ta.indicators()\n",
    "help(ta.alma)"
   ]
  },
  {
   "cell_type": "code",
   "execution_count": 18,
   "metadata": {},
   "outputs": [],
   "source": [
    "# High performing indicators\n",
    "\n",
    "# accumulation/distribution: offset=148 => 411.94 -> 785.19 (5/18/21)\n",
    "# chaikin oscillator: fast=2, slow=142, offset=35 => 411.94 -> 1169.45 (p-value 0.991 for f=2,o=35) (5/18/21)\n",
    "# average directional index: length=79, lensig=13 => 420.04 -> 455.59 (p-value 0.7977 for l=79, ls=13) (5/29/21)"
   ]
  },
  {
   "cell_type": "code",
   "execution_count": null,
   "metadata": {},
   "outputs": [],
   "source": [
    "newcurrmonies = []\n",
    "length=30\n",
    "sigma=5\n",
    "do=0.9\n",
    "offset=90\n",
    "df2 = df.ta.alma(length=length,sigma=sigma,distribution_offset=do,offset=offset)\n",
    "mylength = length+1\n",
    "currmoney = df[\"Close\"][df.index[mylength+1]]\n",
    "lastalma = df2[df.index[mylength]]\n",
    "lastclose = currmoney\n",
    "goingUp = True\n",
    "for date in df.index[mylength+1:]:\n",
    "    if goingUp:\n",
    "        currmoney *= df[\"Close\"][date] / lastclose\n",
    "        print(date, currmoney)\n",
    "    newcurrmonies += [currmoney]\n",
    "    lastclose = df[\"Close\"][date]\n",
    "    goingUp = df2[date] >= lastalma\n",
    "    lastalma = df2[date]"
   ]
  },
  {
   "cell_type": "code",
   "execution_count": 8,
   "metadata": {},
   "outputs": [
    {
     "data": {
      "text/plain": [
       "[<matplotlib.lines.Line2D at 0x125cf7130>]"
      ]
     },
     "execution_count": 8,
     "metadata": {},
     "output_type": "execute_result"
    },
    {
     "data": {
      "image/png": "[encoded data removed]",
      "text/plain": [
       "<Figure size 432x288 with 1 Axes>"
      ]
     },
     "metadata": {
      "needs_background": "light"
     },
     "output_type": "display_data"
    }
   ],
   "source": [
    "x = [i for i in range(len(newcurrmonies))]\n",
    "y1 = list(df[\"Close\"])[mylength+1:]\n",
    "y2 = newcurrmonies\n",
    "plt.plot(x,y1)\n",
    "plt.plot(x,y2)"
   ]
  },
  {
   "cell_type": "code",
   "execution_count": null,
   "metadata": {},
   "outputs": [],
   "source": [
    "offset_ad = 148\n",
    "fast_co = 2\n",
    "slow_co = 142\n",
    "offset_co = 35\n",
    "df2 = df.ta.ad(offset=offset_ad)\n",
    "df3 = df.ta.adosc(fast=fast_co,slow=slow_co,offset=offset_co)\n",
    "mylength = max(offset_ad, slow-1+offset_co)\n",
    "currmoney = df[\"close\"][df.index[mylength]]\n",
    "lastclose = currmoney\n",
    "lastad = -np.inf\n",
    "goingUp_ad = True\n",
    "goingUp_co = True\n",
    "newcurrmonies = []\n",
    "for date in df.index[mylength:]:\n",
    "    if goingUp_ad and goingUp_co:\n",
    "        currmoney *= df[\"close\"][date] / lastclose\n",
    "        print(date, currmoney)\n",
    "    lastclose = df[\"close\"][date]\n",
    "    newcurrmonies += [currmoney]\n",
    "    goingUp_ad = (df2[date] >= lastad)\n",
    "    lastad = df2[date]\n",
    "    goingUp_co = (df3[date] >= 0)"
   ]
  },
  {
   "cell_type": "code",
   "execution_count": 758,
   "metadata": {},
   "outputs": [
    {
     "data": {
      "text/plain": [
       "array([0.45408163, 0.53121636, 0.52359551, 0.55794504])"
      ]
     },
     "execution_count": 758,
     "metadata": {},
     "output_type": "execute_result"
    }
   ],
   "source": [
    "accurate/count"
   ]
  },
  {
   "cell_type": "code",
   "execution_count": 759,
   "metadata": {},
   "outputs": [
    {
     "data": {
      "text/plain": [
       "array([ 392., 1858.,  445., 2511.])"
      ]
     },
     "execution_count": 759,
     "metadata": {},
     "output_type": "execute_result"
    }
   ],
   "source": [
    "count"
   ]
  },
  {
   "cell_type": "code",
   "execution_count": 761,
   "metadata": {},
   "outputs": [],
   "source": [
    "nucount = 0\n",
    "up = 0\n",
    "for date in df.index[mylength:]:\n",
    "    nucount += 1\n",
    "    if df['open'][date] <= df['close'][date]:\n",
    "        up += 1"
   ]
  },
  {
   "cell_type": "code",
   "execution_count": 762,
   "metadata": {},
   "outputs": [
    {
     "data": {
      "text/plain": [
       "0.5376199616122841"
      ]
     },
     "execution_count": 762,
     "metadata": {},
     "output_type": "execute_result"
    }
   ],
   "source": [
    "up/nucount"
   ]
  },
  {
   "cell_type": "code",
   "execution_count": null,
   "metadata": {},
   "outputs": [],
   "source": []
  }
 ],
 "metadata": {
  "kernelspec": {
   "display_name": "Python 3 (ipykernel)",
   "language": "python",
   "name": "python3"
  },
  "language_info": {
   "codemirror_mode": {
    "name": "ipython",
    "version": 3
   },
   "file_extension": ".py",
   "mimetype": "text/x-python",
   "name": "python",
   "nbconvert_exporter": "python",
   "pygments_lexer": "ipython3",
   "version": "3.12.1"
  }
 },
 "nbformat": 4,
 "nbformat_minor": 4
}
