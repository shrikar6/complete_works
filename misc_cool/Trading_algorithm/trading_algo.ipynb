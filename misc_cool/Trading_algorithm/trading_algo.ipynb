{
 "cells": [
  {
   "cell_type": "code",
   "execution_count": 1,
   "id": "db76a548",
   "metadata": {},
   "outputs": [],
   "source": [
    "import numpy as np\n",
    "import pandas as pd\n",
    "import pandas_ta as ta\n",
    "import yfinance\n",
    "import matplotlib.pyplot as plt\n",
    "import time\n",
    "import scipy.stats as st"
   ]
  },
  {
   "cell_type": "code",
   "execution_count": null,
   "id": "0210623a",
   "metadata": {},
   "outputs": [],
   "source": [
    "df = pd.DataFrame()\n",
    "df = df.ta.ticker(\"spy\")\n",
    "df[\"newDate\"] = df.index\n",
    "df = df[df[\"newDate\"] >= \"2000-01-01\"]\n",
    "del df[\"newDate\"]\n",
    "df"
   ]
  },
  {
   "cell_type": "code",
   "execution_count": null,
   "id": "ee3fe29a",
   "metadata": {},
   "outputs": [],
   "source": [
    "newcurrmonies = []\n",
    "length=30\n",
    "sigma=5\n",
    "do=0.9\n",
    "offset=90\n",
    "df2 = df.ta.alma(length=length,sigma=sigma,distribution_offset=do,offset=offset)\n",
    "mylength = length+1\n",
    "currmoney = df[\"Close\"][df.index[mylength+1]]\n",
    "lastalma = df2[df.index[mylength]]\n",
    "lastclose = currmoney\n",
    "goingUp = True\n",
    "for date in df.index[mylength+1:]:\n",
    "    if goingUp:\n",
    "        currmoney *= df[\"Close\"][date] / lastclose\n",
    "        print(date, currmoney)\n",
    "    newcurrmonies += [currmoney]\n",
    "    lastclose = df[\"Close\"][date]\n",
    "    goingUp = df2[date] >= lastalma\n",
    "    lastalma = df2[date]"
   ]
  },
  {
   "cell_type": "code",
   "execution_count": 4,
   "id": "a73c0f80",
   "metadata": {},
   "outputs": [
    {
     "data": {
      "text/plain": [
       "[<matplotlib.lines.Line2D at 0x12e0c2ee0>]"
      ]
     },
     "execution_count": 4,
     "metadata": {},
     "output_type": "execute_result"
    },
    {
     "data": {
      "image/png": "[encoded data removed]",
      "text/plain": [
       "<Figure size 432x288 with 1 Axes>"
      ]
     },
     "metadata": {
      "needs_background": "light"
     },
     "output_type": "display_data"
    }
   ],
   "source": [
    "x = [i for i in range(len(newcurrmonies))]\n",
    "y1 = list(df[\"Close\"])[mylength+1:]\n",
    "y2 = newcurrmonies\n",
    "plt.plot(x,y1)\n",
    "plt.plot(x,y2)"
   ]
  },
  {
   "cell_type": "code",
   "execution_count": null,
   "id": "b5a5c5d2",
   "metadata": {},
   "outputs": [],
   "source": []
  }
 ],
 "metadata": {
  "kernelspec": {
   "display_name": "Python 3 (ipykernel)",
   "language": "python",
   "name": "python3"
  },
  "language_info": {
   "codemirror_mode": {
    "name": "ipython",
    "version": 3
   },
   "file_extension": ".py",
   "mimetype": "text/x-python",
   "name": "python",
   "nbconvert_exporter": "python",
   "pygments_lexer": "ipython3",
   "version": "3.8.5"
  }
 },
 "nbformat": 4,
 "nbformat_minor": 5
}
