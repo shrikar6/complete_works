{
 "cells": [
  {
   "cell_type": "code",
   "execution_count": 40,
   "id": "parental-announcement",
   "metadata": {},
   "outputs": [],
   "source": [
    "from stockfish import Stockfish\n",
    "import chess"
   ]
  },
  {
   "cell_type": "code",
   "execution_count": 41,
   "id": "banner-sperm",
   "metadata": {},
   "outputs": [],
   "source": [
    "stockfish = Stockfish(parameters={\"Skill Level\": 11, \"Threads\": 4, \"Minimum Thinking Time\": 1000})\n",
    "stockfish.set_depth(15)"
   ]
  },
  {
   "cell_type": "code",
   "execution_count": null,
   "id": "continued-ireland",
   "metadata": {},
   "outputs": [],
   "source": [
    "pos = [\"b2b4\"]\n",
    "board = chess.Board()\n",
    "for i in pos:\n",
    "    board.push(chess.Move.from_uci(i))\n",
    "\n",
    "i = 0\n",
    "while i < 100 and not board.is_game_over():\n",
    "    print(\"move {}\".format(i))\n",
    "    stockfish.set_position(pos)\n",
    "    move = stockfish.get_best_move()\n",
    "    board.push(chess.Move.from_uci(move))\n",
    "    pos += [move]\n",
    "    i += 1"
   ]
  },
  {
   "cell_type": "code",
   "execution_count": 43,
   "id": "rapid-partner",
   "metadata": {},
   "outputs": [
    {
     "data": {
      "text/plain": [
       "'1. b4 e5 2. b5 d5 3. e3 Bd6 4. c4 d4 5. Be2 Nf6 6. Bb2 Bc5 7. exd4 Bxd4 8. Nc3 Ne4 9. Nxe4 Bxb2 10. Rb1 Ba3 11. Ng3 f5 12. Nh3 Bc5 13. Bf3 O-O 14. Bd5+ Kh8 15. Qh5 Qe7 16. O-O g6 17. Qf3 Nd7 18. Bxb7 Bxb7 19. Qxb7 Nf6 20. Qc6 Rad8 21. d3 Rxd3 22. Rfd1 Ra3 23. Nf1 Kg8 24. Ne3 Bxe3 25. fxe3 h6 26. c5 Kg7 27. Rbc1 Rf7 28. Qa8 Qf8 29. Qxf8+ Kxf8 30. Nf2 Rd7 31. Rxd7 Nxd7 32. Nd1 Rxa2 33. e4 Ra3 34. c6 Nf6 35. exf5 gxf5 36. Kf1 Ke7 37. Rc5 Ke6 38. Ke1 Nd5 39. g3 Ra1 40. Rc2 Ne3 41. Rc5 Nxd1 42. Ke2 Rb1 43. Rc4 Kd6 44. Rc2 Ke7 45. Kd3 Rxb5 46. Ra2 a5 47. Ra3 Nb2+ 48. Ke2 a4 49. g4 Rb3 50. Ra1 fxg4 51. Ra2'"
      ]
     },
     "execution_count": 43,
     "metadata": {},
     "output_type": "execute_result"
    }
   ],
   "source": [
    "board = chess.Board()\n",
    "board.variation_san([chess.Move.from_uci(m) for m in pos])"
   ]
  },
  {
   "cell_type": "code",
   "execution_count": 27,
   "id": "permanent-district",
   "metadata": {},
   "outputs": [
    {
     "data": {
      "text/plain": [
       "{'Write Debug Log': 'false',\n",
       " 'Contempt': 0,\n",
       " 'Min Split Depth': 0,\n",
       " 'Threads': 1,\n",
       " 'Ponder': 'false',\n",
       " 'Hash': 16,\n",
       " 'MultiPV': 1,\n",
       " 'Skill Level': 200,\n",
       " 'Move Overhead': 15,\n",
       " 'Minimum Thinking Time': 20,\n",
       " 'Slow Mover': 80,\n",
       " 'UCI_Chess960': 'false'}"
      ]
     },
     "execution_count": 27,
     "metadata": {},
     "output_type": "execute_result"
    }
   ],
   "source": [
    "stockfish.get_parameters()"
   ]
  },
  {
   "cell_type": "code",
   "execution_count": null,
   "id": "every-expression",
   "metadata": {},
   "outputs": [],
   "source": []
  }
 ],
 "metadata": {
  "kernelspec": {
   "display_name": "Python 3",
   "language": "python",
   "name": "python3"
  },
  "language_info": {
   "codemirror_mode": {
    "name": "ipython",
    "version": 3
   },
   "file_extension": ".py",
   "mimetype": "text/x-python",
   "name": "python",
   "nbconvert_exporter": "python",
   "pygments_lexer": "ipython3",
   "version": "3.9.0"
  }
 },
 "nbformat": 4,
 "nbformat_minor": 5
}
