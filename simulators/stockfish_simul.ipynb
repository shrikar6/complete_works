{
 "cells": [
  {
   "cell_type": "code",
   "execution_count": 40,
   "id": "parental-announcement",
   "metadata": {},
   "outputs": [],
   "source": [
    "from stockfish import Stockfish\n",
    "import chess"
   ]
  },
  {
   "cell_type": "code",
   "execution_count": 41,
   "id": "banner-sperm",
   "metadata": {},
   "outputs": [],
   "source": [
    "stockfish = Stockfish(parameters={\"Skill Level\": 11, \"Threads\": 4, \"Minimum Thinking Time\": 1000})\n",
    "stockfish.set_depth(15)"
   ]
  },
  {
   "cell_type": "code",
   "execution_count": 42,
   "id": "continued-ireland",
   "metadata": {},
   "outputs": [
    {
     "name": "stdout",
     "output_type": "stream",
     "text": [
      "move 0\n",
      "move 1\n",
      "move 2\n",
      "move 3\n",
      "move 4\n",
      "move 5\n",
      "move 6\n",
      "move 7\n",
      "move 8\n",
      "move 9\n",
      "move 10\n",
      "move 11\n",
      "move 12\n",
      "move 13\n",
      "move 14\n",
      "move 15\n",
      "move 16\n",
      "move 17\n",
      "move 18\n",
      "move 19\n",
      "move 20\n",
      "move 21\n",
      "move 22\n",
      "move 23\n",
      "move 24\n",
      "move 25\n",
      "move 26\n",
      "move 27\n",
      "move 28\n",
      "move 29\n",
      "move 30\n",
      "move 31\n",
      "move 32\n",
      "move 33\n",
      "move 34\n",
      "move 35\n",
      "move 36\n",
      "move 37\n",
      "move 38\n",
      "move 39\n",
      "move 40\n",
      "move 41\n",
      "move 42\n",
      "move 43\n",
      "move 44\n",
      "move 45\n",
      "move 46\n",
      "move 47\n",
      "move 48\n",
      "move 49\n",
      "move 50\n",
      "move 51\n",
      "move 52\n",
      "move 53\n",
      "move 54\n",
      "move 55\n",
      "move 56\n",
      "move 57\n",
      "move 58\n",
      "move 59\n",
      "move 60\n",
      "move 61\n",
      "move 62\n",
      "move 63\n",
      "move 64\n",
      "move 65\n",
      "move 66\n",
      "move 67\n",
      "move 68\n",
      "move 69\n",
      "move 70\n",
      "move 71\n",
      "move 72\n",
      "move 73\n",
      "move 74\n",
      "move 75\n",
      "move 76\n",
      "move 77\n",
      "move 78\n",
      "move 79\n",
      "move 80\n",
      "move 81\n",
      "move 82\n",
      "move 83\n",
      "move 84\n",
      "move 85\n",
      "move 86\n",
      "move 87\n",
      "move 88\n",
      "move 89\n",
      "move 90\n",
      "move 91\n",
      "move 92\n",
      "move 93\n",
      "move 94\n",
      "move 95\n",
      "move 96\n",
      "move 97\n",
      "move 98\n",
      "move 99\n"
     ]
    }
   ],
   "source": [
    "pos = [\"b2b4\"]\n",
    "board = chess.Board()\n",
    "for i in pos:\n",
    "    board.push(chess.Move.from_uci(i))\n",
    "\n",
    "i = 0\n",
    "while i < 100 and not board.is_game_over():\n",
    "    print(\"move {}\".format(i))\n",
    "    stockfish.set_position(pos)\n",
    "    move = stockfish.get_best_move()\n",
    "    board.push(chess.Move.from_uci(move))\n",
    "    pos += [move]\n",
    "    i += 1"
   ]
  },
  {
   "cell_type": "code",
   "execution_count": 43,
   "id": "rapid-partner",
   "metadata": {},
   "outputs": [
    {
     "data": {
      "text/plain": [
       "'1. b4 e5 2. b5 d5 3. e3 Bd6 4. c4 d4 5. Be2 Nf6 6. Bb2 Bc5 7. exd4 Bxd4 8. Nc3 Ne4 9. Nxe4 Bxb2 10. Rb1 Ba3 11. Ng3 f5 12. Nh3 Bc5 13. Bf3 O-O 14. Bd5+ Kh8 15. Qh5 Qe7 16. O-O g6 17. Qf3 Nd7 18. Bxb7 Bxb7 19. Qxb7 Nf6 20. Qc6 Rad8 21. d3 Rxd3 22. Rfd1 Ra3 23. Nf1 Kg8 24. Ne3 Bxe3 25. fxe3 h6 26. c5 Kg7 27. Rbc1 Rf7 28. Qa8 Qf8 29. Qxf8+ Kxf8 30. Nf2 Rd7 31. Rxd7 Nxd7 32. Nd1 Rxa2 33. e4 Ra3 34. c6 Nf6 35. exf5 gxf5 36. Kf1 Ke7 37. Rc5 Ke6 38. Ke1 Nd5 39. g3 Ra1 40. Rc2 Ne3 41. Rc5 Nxd1 42. Ke2 Rb1 43. Rc4 Kd6 44. Rc2 Ke7 45. Kd3 Rxb5 46. Ra2 a5 47. Ra3 Nb2+ 48. Ke2 a4 49. g4 Rb3 50. Ra1 fxg4 51. Ra2'"
      ]
     },
     "execution_count": 43,
     "metadata": {},
     "output_type": "execute_result"
    }
   ],
   "source": [
    "board = chess.Board()\n",
    "board.variation_san([chess.Move.from_uci(m) for m in pos])"
   ]
  },
  {
   "cell_type": "code",
   "execution_count": 27,
   "id": "permanent-district",
   "metadata": {},
   "outputs": [
    {
     "data": {
      "text/plain": [
       "{'Write Debug Log': 'false',\n",
       " 'Contempt': 0,\n",
       " 'Min Split Depth': 0,\n",
       " 'Threads': 1,\n",
       " 'Ponder': 'false',\n",
       " 'Hash': 16,\n",
       " 'MultiPV': 1,\n",
       " 'Skill Level': 200,\n",
       " 'Move Overhead': 15,\n",
       " 'Minimum Thinking Time': 20,\n",
       " 'Slow Mover': 80,\n",
       " 'UCI_Chess960': 'false'}"
      ]
     },
     "execution_count": 27,
     "metadata": {},
     "output_type": "execute_result"
    }
   ],
   "source": [
    "stockfish.get_parameters()"
   ]
  },
  {
   "cell_type": "code",
   "execution_count": null,
   "id": "every-expression",
   "metadata": {},
   "outputs": [],
   "source": []
  }
 ],
 "metadata": {
  "kernelspec": {
   "display_name": "Python 3",
   "language": "python",
   "name": "python3"
  },
  "language_info": {
   "codemirror_mode": {
    "name": "ipython",
    "version": 3
   },
   "file_extension": ".py",
   "mimetype": "text/x-python",
   "name": "python",
   "nbconvert_exporter": "python",
   "pygments_lexer": "ipython3",
   "version": "3.9.0"
  }
 },
 "nbformat": 4,
 "nbformat_minor": 5
}
