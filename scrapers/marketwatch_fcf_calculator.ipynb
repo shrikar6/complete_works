{
 "cells": [
  {
   "cell_type": "code",
   "execution_count": 184,
   "id": "f6798bc4",
   "metadata": {},
   "outputs": [],
   "source": [
    "from bs4 import BeautifulSoup\n",
    "import requests\n",
    "import re\n",
    "import pandas as pd"
   ]
  },
  {
   "cell_type": "code",
   "execution_count": 245,
   "id": "42b23680",
   "metadata": {},
   "outputs": [],
   "source": [
    "def convert(val):\n",
    "    val = val.replace(',', '')\n",
    "    if val[0] == '(':\n",
    "        val = '-' + val[1:-1]\n",
    "    if val[-1] == '%':\n",
    "        val = float(val[:-1]) / 100\n",
    "    elif val[-1] == 'T':\n",
    "        val = float(val[:-1]) * 1000000000000\n",
    "    elif val[-1] == 'B':\n",
    "        val = float(val[:-1]) * 1000000000\n",
    "    elif val[-1] == 'M':\n",
    "        val = float(val[:-1]) * 1000000\n",
    "    elif val[-1] == 'K':\n",
    "        val = float(val[:-1]) * 1000\n",
    "    elif val == '-':\n",
    "        val = 0\n",
    "    else:\n",
    "        val = float(val)\n",
    "    return val"
   ]
  },
  {
   "cell_type": "code",
   "execution_count": 314,
   "id": "831547a2",
   "metadata": {},
   "outputs": [
    {
     "name": "stdout",
     "output_type": "stream",
     "text": [
      "Net Income Growth\n",
      "Deferred Taxes\n",
      "Accounts Payable\n",
      "Preferred Dividends\n",
      "Other Funds\n",
      "Other Uses\n",
      "Other Sources\n"
     ]
    }
   ],
   "source": [
    "stock = \"nok\"\n",
    "url = \"https://www.marketwatch.com/investing/stock/{}/financials\".format(stock)\n",
    "\n",
    "url_add = [\"/income\",\n",
    "       \"/balance-sheet\",\n",
    "       \"/cash-flow\"]\n",
    "\n",
    "vals = {}\n",
    "\n",
    "quarterly = True\n",
    "\n",
    "for url_append in url_add:\n",
    "    final_url = url + url_append\n",
    "    if quarterly:\n",
    "        final_url += '/quarter'\n",
    "    response = requests.get(final_url)\n",
    "    soup = BeautifulSoup(response.text)\n",
    "    rows = soup.findAll('tr', class_=\"table__row\")\n",
    "    for i in range(11, len(rows)):\n",
    "        tds = rows[i].findAll('td')\n",
    "        if tds == []:\n",
    "            continue\n",
    "        category = tds[0].div.text\n",
    "        if category in vals:\n",
    "            print(category)\n",
    "        vals[category] = []\n",
    "        for j in range(1, 6):\n",
    "            vals[category].append(tds[j].text)\n",
    "\n",
    "response = requests.get(\"https://www.marketwatch.com/investing/bond/tmubmusd10y?countrycode=bx\")\n",
    "soup = BeautifulSoup(response.text)\n",
    "us_treasury_10_yr_bond_rate = float(soup.findAll('bg-quote', class_='value')[0].text) / 100\n",
    "\n",
    "response = requests.get(\"https://www.marketwatch.com/investing/stock/\" + stock)\n",
    "soup = BeautifulSoup(response.text)\n",
    "data = soup.findAll('li', class_='kv__item')\n",
    "market_cap = convert(data[3].span.text[1:])\n",
    "shares_outstanding = convert(data[4].span.text)\n",
    "beta = float(data[6].span.text)\n",
    "\n",
    "market_return = 0.1\n",
    "perpetual_growth_rate = 1.025"
   ]
  },
  {
   "cell_type": "code",
   "execution_count": 315,
   "id": "7221edf8",
   "metadata": {},
   "outputs": [],
   "source": [
    "for metric in vals:\n",
    "    for i in range(len(vals[metric])):\n",
    "        vals[metric][i] = convert(vals[metric][i])"
   ]
  },
  {
   "cell_type": "code",
   "execution_count": 316,
   "id": "ceb2cca9",
   "metadata": {},
   "outputs": [
    {
     "name": "stdout",
     "output_type": "stream",
     "text": [
      "negative fcf\n",
      "-1.0542957182493429\n"
     ]
    }
   ],
   "source": [
    "for i in range(5):\n",
    "    if vals[\"Free Cash Flow\"][i] < 0:\n",
    "        print(\"negative fcf\")\n",
    "        break\n",
    "\n",
    "fcf_net_income_ratio = sum([vals[\"Free Cash Flow\"][i]/vals[\"Net Income before Extraordinaries\"][i] for i in range(5)])/5\n",
    "average_revenue_growth = 1 + sum(vals[\"Sales Growth\"][1:])/4\n",
    "\n",
    "future_revenues = [vals[\"Sales/Revenue\"][-1]*average_revenue_growth]\n",
    "for _ in range(3):\n",
    "    future_revenues.append(future_revenues[-1]*average_revenue_growth)\n",
    "    \n",
    "net_income_margin = sum([vals[\"Net Income before Extraordinaries\"][i]/vals[\"Sales/Revenue\"][i] for i in range(5)])/5\n",
    "future_incomes = [net_income_margin*revenue for revenue in future_revenues]\n",
    "future_free_cash_flows = [fcf_net_income_ratio*income for income in future_incomes]\n",
    "\n",
    "cost_of_debt = 0\n",
    "for i in range(5):\n",
    "    debt = vals[\"Current Portion of Long Term Debt\"][i] + vals[\"Long-Term Debt\"][i]\n",
    "    if debt != 0:\n",
    "        cost_of_debt += vals[\"Interest Expense\"][i]/debt\n",
    "cost_of_debt /= 5\n",
    "\n",
    "tax = sum([vals[\"Income Tax\"][i]/vals[\"Pretax Income\"][i] for i in range(5)])/5\n",
    "cost_of_equity = us_treasury_10_yr_bond_rate + beta*(market_return - us_treasury_10_yr_bond_rate)\n",
    "\n",
    "debt = vals[\"ST Debt & Current Portion LT Debt\"][-1] + vals[\"Long-Term Debt\"][-1]\n",
    "total_cap = market_cap + debt\n",
    "weight_of_debt = debt/total_cap\n",
    "weight_of_equity = market_cap/total_cap\n",
    "\n",
    "required_rate_of_return = 1 + weight_of_debt*cost_of_debt*(1-tax) + weight_of_equity*cost_of_equity\n",
    "\n",
    "terminal_value = future_free_cash_flows[-1]*perpetual_growth_rate/(required_rate_of_return - perpetual_growth_rate)\n",
    "pv_future_free_cash_flows = [future_free_cash_flows[i]/(required_rate_of_return)**(i+1) for i in range(4)]\n",
    "present_terminal_value = terminal_value/(required_rate_of_return)**4\n",
    "todays_value = sum(pv_future_free_cash_flows) + present_terminal_value\n",
    "intrinsic_value = todays_value/shares_outstanding\n",
    "\n",
    "print(intrinsic_value)"
   ]
  },
  {
   "cell_type": "code",
   "execution_count": null,
   "id": "696f64dc",
   "metadata": {},
   "outputs": [],
   "source": []
  },
  {
   "cell_type": "code",
   "execution_count": null,
   "id": "346481d5",
   "metadata": {},
   "outputs": [],
   "source": []
  }
 ],
 "metadata": {
  "kernelspec": {
   "display_name": "Python 3 (ipykernel)",
   "language": "python",
   "name": "python3"
  },
  "language_info": {
   "codemirror_mode": {
    "name": "ipython",
    "version": 3
   },
   "file_extension": ".py",
   "mimetype": "text/x-python",
   "name": "python",
   "nbconvert_exporter": "python",
   "pygments_lexer": "ipython3",
   "version": "3.9.7"
  }
 },
 "nbformat": 4,
 "nbformat_minor": 5
}
