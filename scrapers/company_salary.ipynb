{
 "cells": [
  {
   "cell_type": "code",
   "execution_count": 1,
   "id": "7d26c521",
   "metadata": {},
   "outputs": [],
   "source": [
    "from selenium import webdriver"
   ]
  },
  {
   "cell_type": "code",
   "execution_count": 1070,
   "id": "df911606",
   "metadata": {},
   "outputs": [],
   "source": [
    "# driver.close()\n",
    "driver = webdriver.Chrome()\n",
    "url = \"https://www.levels.fyi/company/Google/salaries/\"\n",
    "driver.get(url + \"Software-Engineer/\")"
   ]
  },
  {
   "cell_type": "code",
   "execution_count": 1071,
   "id": "87bb844b",
   "metadata": {},
   "outputs": [],
   "source": [
    "salaries = []"
   ]
  },
  {
   "cell_type": "code",
   "execution_count": 1080,
   "id": "1c3767f3",
   "metadata": {},
   "outputs": [
    {
     "name": "stderr",
     "output_type": "stream",
     "text": [
      "/var/folders/v2/bwx6j_nd1d18rkrywnrf79_w0000gn/T/ipykernel_75516/4079319754.py:1: DeprecationWarning: find_elements_by_* commands are deprecated. Please use find_elements() instead\n",
      "  elems = driver.find_elements_by_class_name(\"dateDetails\")\n"
     ]
    }
   ],
   "source": [
    "elems = driver.find_elements_by_class_name(\"dateDetails\")\n",
    "salaries.extend([elem.text for elem in elems[6::3]])"
   ]
  },
  {
   "cell_type": "code",
   "execution_count": 1081,
   "id": "b19daef6",
   "metadata": {},
   "outputs": [
    {
     "name": "stdout",
     "output_type": "stream",
     "text": [
      "Number of salaries: 861\n",
      "Salary average: 302.0\n"
     ]
    }
   ],
   "source": [
    "print(\"Number of salaries: \" + str(len(salaries)))\n",
    "\n",
    "nusalaries = [salary.split(' | ') for salary in salaries]\n",
    "\n",
    "for i in range(len(nusalaries)):\n",
    "    for j in range(3):\n",
    "        if nusalaries[i][j][-1] == 'K':\n",
    "            nusalaries[i][j] = float(nusalaries[i][j][:-1])\n",
    "        else:\n",
    "            nusalaries[i][j] = 0\n",
    "\n",
    "# print(\"Salary average: \"+ str(sum([sum(salary) for salary in nusalaries])/len(nusalaries)))\n",
    "nunusalaries = sorted([sum(salary) for salary in nusalaries])\n",
    "print(\"Salary average: \"+ str(nunusalaries[len(nunusalaries)//2]))"
   ]
  },
  {
   "cell_type": "code",
   "execution_count": null,
   "id": "9c72d5c1",
   "metadata": {},
   "outputs": [],
   "source": [
    "companies"
   ]
  },
  {
   "cell_type": "code",
   "execution_count": 1049,
   "id": "4bd06139",
   "metadata": {},
   "outputs": [],
   "source": [
    "driver.close()\n",
    "driver = webdriver.Chrome()\n",
    "driver.get(\"https://www.levels.fyi/comp.html?track=Software%20Engineer\")"
   ]
  },
  {
   "cell_type": "code",
   "execution_count": 1022,
   "id": "6726cb40",
   "metadata": {},
   "outputs": [],
   "source": [
    "companies = set()"
   ]
  },
  {
   "cell_type": "code",
   "execution_count": 1135,
   "id": "07348e0c",
   "metadata": {},
   "outputs": [
    {
     "name": "stderr",
     "output_type": "stream",
     "text": [
      "/var/folders/v2/bwx6j_nd1d18rkrywnrf79_w0000gn/T/ipykernel_75516/454014157.py:1: DeprecationWarning: find_elements_by_* commands are deprecated. Please use find_elements() instead\n",
      "  for company in driver.find_elements_by_class_name(\"padding-left-md\")[2::2]:\n"
     ]
    }
   ],
   "source": [
    "for company in driver.find_elements_by_class_name(\"padding-left-md\")[2::2]:\n",
    "    if company.text not in companies:\n",
    "        companies.add(company.text)"
   ]
  },
  {
   "cell_type": "code",
   "execution_count": null,
   "id": "6da61af6",
   "metadata": {},
   "outputs": [],
   "source": []
  }
 ],
 "metadata": {
  "kernelspec": {
   "display_name": "Python 3 (ipykernel)",
   "language": "python",
   "name": "python3"
  },
  "language_info": {
   "codemirror_mode": {
    "name": "ipython",
    "version": 3
   },
   "file_extension": ".py",
   "mimetype": "text/x-python",
   "name": "python",
   "nbconvert_exporter": "python",
   "pygments_lexer": "ipython3",
   "version": "3.9.7"
  }
 },
 "nbformat": 4,
 "nbformat_minor": 5
}
