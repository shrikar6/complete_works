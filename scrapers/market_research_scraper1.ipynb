{
 "cells": [
  {
   "cell_type": "code",
   "execution_count": 5,
   "id": "preliminary-aquarium",
   "metadata": {},
   "outputs": [],
   "source": [
    "from selenium.common.exceptions import NoSuchElementException\n",
    "from selenium.common.exceptions import TimeoutException\n",
    "from selenium.webdriver.common.by import By\n",
    "from selenium.webdriver.support import expected_conditions as EC\n",
    "from selenium.webdriver.support.ui import WebDriverWait\n",
    "from urllib.request import URLError\n",
    "from copy import deepcopy\n",
    "import numpy as np\n",
    "import pickle\n",
    "import time\n",
    "import undetected_chromedriver as uc"
   ]
  },
  {
   "cell_type": "code",
   "execution_count": 69,
   "id": "ecological-chocolate",
   "metadata": {},
   "outputs": [],
   "source": [
    "# Collecting all market_report_links\n",
    "driver = uc.Chrome()\n",
    "driver.get(\"https://www.alliedmarketresearch.com/reports-store\")"
   ]
  },
  {
   "cell_type": "code",
   "execution_count": 2,
   "id": "excess-moscow",
   "metadata": {},
   "outputs": [],
   "source": [
    "market_report_links = []\n",
    "with open(\"market_report_links.pkl\", \"rb\") as f:\n",
    "    market_report_links = pickle.load(f)"
   ]
  },
  {
   "cell_type": "code",
   "execution_count": null,
   "id": "described-criterion",
   "metadata": {},
   "outputs": [],
   "source": [
    "count = 1\n",
    "while True:\n",
    "    print(count)\n",
    "    market_report_elements = driver.find_elements(By.CLASS_NAME, \"reportpg-sec\")\n",
    "    for market_report_element in market_report_elements:\n",
    "        media_element = market_report_element.find_element(By.CLASS_NAME, \"media-body\")\n",
    "        market_report_links.append(media_element.find_element(By.XPATH, \".//h3/a\").get_attribute(\"href\"))\n",
    "    pagination_element = driver.find_element(By.CLASS_NAME, \"pagination\")\n",
    "    page_elements = pagination_element.find_elements(By.CLASS_NAME, \"page-item\")\n",
    "    if page_elements[-1].text != \"Next\":\n",
    "        break\n",
    "    current_url = driver.current_url\n",
    "    page_elements[-1].click()\n",
    "    WebDriverWait(driver, 10000).until(EC.url_changes(current_url))\n",
    "    count += 1"
   ]
  },
  {
   "cell_type": "code",
   "execution_count": 74,
   "id": "supported-rehabilitation",
   "metadata": {},
   "outputs": [],
   "source": [
    "with open(\"market_report_links.pkl\", \"wb\") as f:\n",
    "    pickle.dump(market_report_links, f)"
   ]
  },
  {
   "cell_type": "code",
   "execution_count": null,
   "id": "broke-regulation",
   "metadata": {},
   "outputs": [],
   "source": [
    "# Collecting all soups fro market_report_links"
   ]
  },
  {
   "cell_type": "code",
   "execution_count": 3,
   "id": "seasonal-ending",
   "metadata": {},
   "outputs": [],
   "source": [
    "from bs4 import BeautifulSoup\n",
    "import requests\n"
   ]
  },
  {
   "cell_type": "code",
   "execution_count": 4,
   "id": "oriented-platinum",
   "metadata": {},
   "outputs": [],
   "source": [
    "def get_cagr_from_str(line):\n",
    "    return float(line.split(\"%\")[0].split()[-1])\n",
    "\n",
    "headers = {\n",
    "    'User-Agent': 'Mozilla/5.0 (Macintosh; Intel Mac OS X 10_15_7) AppleWebKit/537.36 (KHTML, like Gecko) Chrome/113.0.0.0 Safari/537.36'\n",
    "}\n",
    "\n",
    "i = 31087\n",
    "\n",
    "cached_soups = set(market_report_links[:i])\n"
   ]
  },
  {
   "cell_type": "code",
   "execution_count": null,
   "id": "departmental-taiwan",
   "metadata": {},
   "outputs": [],
   "source": [
    "while i < len(market_report_links):\n",
    "    start = time.time()\n",
    "    url = market_report_links[i]\n",
    "    if url in cached_soups:\n",
    "        print(i, \"repeated url\")\n",
    "        i += 1\n",
    "        continue\n",
    "    response = None\n",
    "    while not response or response.status_code != 200:\n",
    "        response = requests.get(url, headers = headers)\n",
    "    soup = BeautifulSoup(response.content, 'html.parser')\n",
    "    with open(\"cached_stocks_soups/{}.pkl\".format(url.split('/')[-1]), \"wb\") as f:\n",
    "        pickle.dump(soup, f)\n",
    "    end = time.time()\n",
    "    print(i, end - start)\n",
    "    i += 1"
   ]
  },
  {
   "cell_type": "code",
   "execution_count": null,
   "id": "sweet-harvest",
   "metadata": {},
   "outputs": [],
   "source": []
  },
  {
   "cell_type": "code",
   "execution_count": 18,
   "id": "acute-creativity",
   "metadata": {},
   "outputs": [],
   "source": [
    "# ignore_words = set()\n",
    "# ignore_words.add(\"inc\")\n",
    "# ignore_words.add(\"inc.\")\n",
    "# ignore_words.add(\"corporation\")\n",
    "# ignore_words.add(\"se\")\n",
    "# ignore_words.add(\"ag\")\n",
    "# ignore_words.add(\"ltd\")\n",
    "# ignore_words.add(\"llc\")\n",
    "# ignore_words.add(\"se.\")\n",
    "# ignore_words.add(\"ag.\")\n",
    "# ignore_words.add(\"ltd.\")\n",
    "# ignore_words.add(\"llc.\")\n",
    "# ignore_words.add(\"systems\")\n",
    "# ignore_words.add(\"gmbh\")\n",
    "# ignore_words.add(\"gmbh.\")\n",
    "# ignore_words.add(\"technologies\")\n",
    "# ignore_words.add(\"co\")\n",
    "# ignore_words.add(\"co.\")\n",
    "# ignore_words.add(\"company\")\n",
    "# ignore_words.add(\"ag\")\n",
    "# ignore_words.add(\"n.v\")\n",
    "# ignore_words.add(\"ag.\")\n",
    "# ignore_words.add(\"n.v.\")\n",
    "# ignore_words.add(\"incorporated\")\n",
    "# ignore_words.add(\"limited\")\n",
    "# ignore_words.add(\"plc\")\n",
    "# ignore_words.add(\"lp\")\n",
    "# ignore_words.add(\"kgaa\")\n",
    "# ignore_words.add(\"plc.\")\n",
    "# ignore_words.add(\"lp.\")\n",
    "# ignore_words.add(\"kgaa.\")\n",
    "# ignore_words.add(\"group\")\n",
    "# ignore_words.add(\"a/s\")\n",
    "# ignore_words.add(\"emc\")\n",
    "# ignore_words.add(\"emc.\")\n",
    "# ignore_words.add(\"&\")\n",
    "# ignore_words.add(\"and\")\n",
    "# ignore_words.add(\"holdings\")\n",
    "# ignore_words.add(\"ab\")\n",
    "# ignore_words.add(\"kg\")\n",
    "# ignore_words.add(\"corp\")\n",
    "# ignore_words.add(\"s.p.a\")\n",
    "# ignore_words.add(\"s.a\")\n",
    "# ignore_words.add(\"ab.\")\n",
    "# ignore_words.add(\"kg.\")\n",
    "# ignore_words.add(\"corp.\")\n",
    "# ignore_words.add(\"s.p.a.\")\n",
    "# ignore_words.add(\"s.a.\")\n",
    "# ignore_words.add(\"industries\")\n",
    "# ignore_words.add(\"pvt\")\n",
    "# ignore_words.add(\"pvt.\")\n",
    "# ignore_words.add(\"private\")\n",
    "\n",
    "# def sanitize(company):\n",
    "#     company_str_split = company.lower().strip().strip(\".\").split()\n",
    "#     new_str = []\n",
    "#     for word in company_str_split:\n",
    "#         if word not in ignore_words:\n",
    "#             new_str.append(word)\n",
    "#     return_str = \" \".join(new_str)\n",
    "#     return return_str"
   ]
  },
  {
   "cell_type": "code",
   "execution_count": 1,
   "id": "every-melbourne",
   "metadata": {},
   "outputs": [],
   "source": [
    "from os import listdir\n",
    "import numpy as np"
   ]
  },
  {
   "cell_type": "code",
   "execution_count": 2,
   "id": "second-soundtrack",
   "metadata": {},
   "outputs": [],
   "source": [
    "files = [f for f in listdir(\"cached_stocks_soups\")]"
   ]
  },
  {
   "cell_type": "code",
   "execution_count": 160,
   "id": "alternative-texas",
   "metadata": {},
   "outputs": [],
   "source": [
    "cagr_present_cases = []\n",
    "special_cases = []"
   ]
  },
  {
   "cell_type": "code",
   "execution_count": null,
   "id": "sacred-enough",
   "metadata": {},
   "outputs": [],
   "source": [
    "to_sift = files\n",
    "start = time.time()\n",
    "for i in range(len(to_sift)):\n",
    "    if i % 100 == 0:\n",
    "        print(i, time.time() - start)\n",
    "        start = time.time()\n",
    "    if to_sift[i][-4:] != \".pkl\":\n",
    "        continue\n",
    "    soup = None\n",
    "    with open(\"cached_stocks_soups/\" + to_sift[i], \"rb\") as f:\n",
    "        soup = pickle.load(f)\n",
    "    text_body_element = soup.find(id=\"roOne\")\n",
    "    if not text_body_element:\n",
    "        continue\n",
    "    lines = text_body_element.findChildren(\"p\")\n",
    "    found = False\n",
    "    for j in range(min(5, len(lines))):\n",
    "        if \"cagr\" in lines[j].text.lower() and \"%\" in lines[j].text and not \"cagr %\" in lines[j].text.lower():\n",
    "            found = True\n",
    "            break\n",
    "    if not found:\n",
    "        lines = text_body_element.findChildren(\"h2\")\n",
    "        if len(lines) != 0 and \"cagr\" in lines[0].text.lower() and \"%\" in lines[0].text and not \"cagr %\" in lines[0].text.lower():\n",
    "            found = True\n",
    "    if found:\n",
    "        cagr_present_cases.append(to_sift[i])\n",
    "    else:\n",
    "        special_cases.append(to_sift[i])"
   ]
  },
  {
   "cell_type": "code",
   "execution_count": 163,
   "id": "established-tracy",
   "metadata": {},
   "outputs": [
    {
     "data": {
      "text/plain": [
       "4717"
      ]
     },
     "execution_count": 163,
     "metadata": {},
     "output_type": "execute_result"
    }
   ],
   "source": [
    "len(cagr_present_cases)"
   ]
  },
  {
   "cell_type": "code",
   "execution_count": null,
   "id": "comfortable-peace",
   "metadata": {},
   "outputs": [],
   "source": [
    "cagr_present_cases"
   ]
  },
  {
   "cell_type": "code",
   "execution_count": 151,
   "id": "light-chemistry",
   "metadata": {},
   "outputs": [],
   "source": [
    "soup = None\n",
    "with open(\"cached_stocks_soups/\" + 'europe-gene-editing-market-A22058.pkl', \"rb\") as f:\n",
    "    soup = pickle.load(f)\n",
    "text_body_element = soup.find(id=\"roOne\")\n",
    "lines = text_body_element.findChildren(\"p\")"
   ]
  },
  {
   "cell_type": "code",
   "execution_count": 152,
   "id": "separated-senate",
   "metadata": {},
   "outputs": [],
   "source": [
    "found = False\n",
    "for j in range(len(lines)):\n",
    "    if \"cagr\" in lines[j].text.lower() and \"%\" in lines[j].text:\n",
    "        found = True\n",
    "        break"
   ]
  },
  {
   "cell_type": "code",
   "execution_count": 153,
   "id": "short-ceiling",
   "metadata": {},
   "outputs": [
    {
     "data": {
      "text/plain": [
       "'COVID-19 impact and revenue opportunity to provide benefits to industry stakeholders with the critical insights to assess the Europe gene editing market.Report Description: The report will cover market trends, size & revenue growth, segmentation, country analysis, competitive landscape, company market shares, and development strategies for this market. The market overview section of the report will cover all aspects of the market in terms of qualitative insights. The market size section will cover country-wide market size and forecast, which will include the impact of the COVID-19. The study further outlines the market segments, which are categorized into submarkets. The country-wise breakdowns are provided along with the size of the market. Competitive landscape includes the detailed assessment on companies in terms of product/service offerings, financial performance, overall business performance, and development strategies. The Europe gene editing market section of the report will be detailed with regards to qualitative and quantitative insights. For the report, AMR will analyze various prominent macro factors such as GDP proportion and expenditure per capita. Furthermore, the report offers the competitive market scenario based on key product/service offerings, overall revenue contribution of leading companies in the Europe gene editing market. In addition, this section provides detailed profiling of top 10 industry players operating in the market. Moreover, it includes the list of companies in the form of heatmap.   Europe Gene Editing Market  By Technology  Your browser does not support the canvas element.   CRISPR-Cas9 Gene Editing segment Enterprises segment was the highest revenue contributor during the forecast period.Get more information on this report : Request Sample Pages   The report will answers below set of questions.Which are the fastest growing segments of the Europe gene editing market?What is the COVID-19 impact on the market?What driving forces will influence the growth of the market in future?Market size trends across segments and countries.   Europe Gene Editing Market  By Application  Your browser does not support the canvas element.   Gene editing segment would witness the fastest growth, registering a CAGR of 8.1% during the forecast period.Get more information on this report : Request Sample Pages  COVID-19 Impact AnalysisThe outbreak of the COVID-19 pandemic significantly impacted the lives of people and the global economy. The report covers micro and macro economic COVID-19 impact analysis. In addition, the report provides a qualitative analysis of impact of COVID-19 on the Europe gene editing market. Moreover, the market size and share will reflect the impact of COVID-19 has had on the Europe gene editing market in initially. In addition, the study outlines the key strategies adopted by the key players during the pandemic. Moreover, it discusses influence of the roll-out of the vaccines and reduction in chance of infection on the Europe gene editing market. Therefore, the report will focus on providing post COVID-19 impact analysis. Reasons to buy the ReportProvides a regional perspective to stakeholder with comprehensive insights covering major countriesTo gain knowledge about how COVID-19 affected the market and how likely the market is expected to behave in post COVID-19 worldFocused country level strategies for all the segmentsUnderstand end users based on the latest trend analysisData segmentations: Country wise data, market share of competitors, and market segments.EUROPE GENE EDITING MARKET REVENUEGraph for representation purpose only   \\u2003Europe Gene Editing Market Report Highlights        Aspects   Details     By Technology     Zinc Finger Nucleases (ZFNs)   CRISPR-Cas9 Gene Editing   Restriction Enzymes   Others   Transcription Activator-Like Effector-based Nucleases (TALENs)       By Application     Drug development   Others   Gene editing   Cell Line Engineering   Animal Genetic Engineering   Plant Genetic Engineering       By End User     Biotechnology and Pharmaceutical Companies   Academic and Government Research Institutes   Contract Research Organizations       By Country     Germany   France   U.K.   Italy   Spain   Rest of Europe         '"
      ]
     },
     "execution_count": 153,
     "metadata": {},
     "output_type": "execute_result"
    }
   ],
   "source": [
    "lines[j].text"
   ]
  },
  {
   "cell_type": "code",
   "execution_count": 154,
   "id": "naked-reunion",
   "metadata": {},
   "outputs": [
    {
     "data": {
      "text/plain": [
       "0"
      ]
     },
     "execution_count": 154,
     "metadata": {},
     "output_type": "execute_result"
    }
   ],
   "source": [
    "j"
   ]
  },
  {
   "cell_type": "code",
   "execution_count": null,
   "id": "downtown-recording",
   "metadata": {},
   "outputs": [],
   "source": []
  },
  {
   "cell_type": "code",
   "execution_count": null,
   "id": "equipped-shanghai",
   "metadata": {},
   "outputs": [],
   "source": [
    "one = set()\n",
    "one.add(\"lamea\")\n",
    "one.add(\"italy\")\n",
    "one.add(\"france\")\n",
    "one.add(\"china\")\n",
    "one.add(\"brazil\")\n",
    "one.add(\"europe\")\n",
    "one.add(\"japan\")\n",
    "one.add(\"spain\")\n",
    "one.add(\"india\")\n",
    "one.add(\"uk\")\n",
    "one.add(\"germany\")\n",
    "one.add(\"mexico\")\n",
    "one.add(\"australia\")\n",
    "one.add(\"canada\")\n",
    "one.add(\"africa\")\n",
    "one.add(\"uae\")\n",
    "one.add(\"belgium\")\n",
    "one.add(\"switzerland\")\n",
    "one.add(\"netherlands\")\n",
    "one.add(\"thailand\")\n",
    "one.add(\"russia\")\n",
    "one.add(\"poland\")\n",
    "one.add(\"argentina\")\n",
    "one.add(\"singapore\")\n",
    "one.add(\"vietnam\")\n",
    "one.add(\"malaysia\")\n",
    "one.add(\"indonesia\")\n",
    "one.add(\"chile\")\n",
    "one.add(\"egypt\")\n",
    "one.add(\"eygpt\")\n",
    "one.add(\"algeria\")\n",
    "one.add(\"philippines\")\n",
    "one.add(\"turkey\")\n",
    "one.add(\"kenya\")\n",
    "one.add(\"sweden\")\n",
    "one.add(\"ireland\")\n",
    "one.add(\"venezuela\")\n",
    "one.add(\"nigeria\")\n",
    "one.add(\"norway\")\n",
    "one.add(\"taiwan\")\n",
    "one.add(\"hungary\")\n",
    "one.add(\"finland\")\n",
    "one.add(\"denmark\")\n",
    "one.add(\"tunisia\")\n",
    "one.add(\"ukraine\")\n",
    "one.add(\"qatar\")\n",
    "one.add(\"us\")\n",
    "one.add(\"slovakia\")\n",
    "one.add(\"itlay\")\n",
    "one.add(\"austria\")\n",
    "\n",
    "two = set()\n",
    "two.add((\"asia\", \"pacific\"))\n",
    "two.add((\"south\", \"korea\"))\n",
    "two.add((\"middle\", \"east\"))\n",
    "two.add((\"u\", \"k\"))\n",
    "two.add((\"u\", \"s\"))\n",
    "two.add((\"north\", \"america\"))\n",
    "two.add((\"saudi\", \"arabia\"))\n",
    "two.add((\"south\", \"africa\"))\n",
    "two.add((\"latin\", \"america\"))\n",
    "two.add((\"united\", \"kingdom\"))\n",
    "two.add((\"the\", \"netherlands\"))\n",
    "two.add((\"new\", \"zealand\"))\n",
    "two.add((\"south\", \"arabia\"))\n",
    "\n",
    "three = set()\n",
    "three.add((\"united\", \"arab\", \"emirates\"))\n",
    "three.add((\"south\", \"east\", \"asia\"))\n",
    "\n",
    "for file_name in special_cases:\n",
    "    words = file_name.split('-')\n",
    "    if words[0] in one or tuple(words[:2]) in two or tuple(words[:3]) in three:\n",
    "        continue\n",
    "    print(file_name)"
   ]
  },
  {
   "cell_type": "code",
   "execution_count": null,
   "id": "inside-chamber",
   "metadata": {},
   "outputs": [],
   "source": []
  },
  {
   "cell_type": "code",
   "execution_count": 162,
   "id": "reserved-shark",
   "metadata": {},
   "outputs": [
    {
     "data": {
      "text/plain": [
       "Message(channel_chat_created=False, chat=Chat(first_name='Shrikar', id=6625944042, type=<ChatType.PRIVATE>), date=datetime.datetime(2023, 10, 15, 23, 34, 58, tzinfo=<UTC>), delete_chat_photo=False, from_user=User(first_name='Fragrantica-complete-pinger', id=6676215052, is_bot=True, username='Fragrantica_complete_bot'), group_chat_created=False, message_id=30, supergroup_chat_created=False, text='done')"
      ]
     },
     "execution_count": 162,
     "metadata": {},
     "output_type": "execute_result"
    }
   ],
   "source": [
    "from telegram import Bot\n",
    "\n",
    "TELEGRAM_TOKEN = '6676215052:AAGgO_Z2WPubhsOAN2_KU7GAeXD9H82ZWw4'\n",
    "CHAT_ID = '6625944042'\n",
    "\n",
    "bot = Bot(token=TELEGRAM_TOKEN)\n",
    "\n",
    "await bot.send_message(chat_id=CHAT_ID, text=\"done\")"
   ]
  },
  {
   "cell_type": "code",
   "execution_count": null,
   "id": "assumed-harvest",
   "metadata": {},
   "outputs": [],
   "source": []
  }
 ],
 "metadata": {
  "kernelspec": {
   "display_name": "Python 3",
   "language": "python",
   "name": "python3"
  },
  "language_info": {
   "codemirror_mode": {
    "name": "ipython",
    "version": 3
   },
   "file_extension": ".py",
   "mimetype": "text/x-python",
   "name": "python",
   "nbconvert_exporter": "python",
   "pygments_lexer": "ipython3",
   "version": "3.9.0"
  }
 },
 "nbformat": 4,
 "nbformat_minor": 5
}
