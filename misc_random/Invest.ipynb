{
 "cells": [
  {
   "cell_type": "code",
   "execution_count": 2,
   "metadata": {},
   "outputs": [],
   "source": [
    "import pandas as pd"
   ]
  },
  {
   "cell_type": "code",
   "execution_count": 21,
   "metadata": {},
   "outputs": [],
   "source": [
    "df_income = pd.read_csv('~/Downloads/us-income-annual.csv',sep=';')"
   ]
  },
  {
   "cell_type": "code",
   "execution_count": 22,
   "metadata": {},
   "outputs": [
    {
     "data": {
      "text/plain": [
       "Index(['Ticker', 'SimFinId', 'Currency', 'Fiscal Year', 'Fiscal Period',\n",
       "       'Report Date', 'Publish Date', 'Restated Date', 'Shares (Basic)',\n",
       "       'Shares (Diluted)', 'Revenue', 'Cost of Revenue', 'Gross Profit',\n",
       "       'Operating Expenses', 'Selling, General & Administrative',\n",
       "       'Research & Development', 'Depreciation & Amortization',\n",
       "       'Operating Income (Loss)', 'Non-Operating Income (Loss)',\n",
       "       'Interest Expense, Net', 'Pretax Income (Loss), Adj.',\n",
       "       'Abnormal Gains (Losses)', 'Pretax Income (Loss)',\n",
       "       'Income Tax (Expense) Benefit, Net',\n",
       "       'Income (Loss) from Continuing Operations',\n",
       "       'Net Extraordinary Gains (Losses)', 'Net Income',\n",
       "       'Net Income (Common)'],\n",
       "      dtype='object')"
      ]
     },
     "execution_count": 22,
     "metadata": {},
     "output_type": "execute_result"
    }
   ],
   "source": [
    "df_income.columns"
   ]
  },
  {
   "cell_type": "code",
   "execution_count": 23,
   "metadata": {},
   "outputs": [
    {
     "name": "stdout",
     "output_type": "stream",
     "text": [
      "0         693000000\n",
      "1         -31000000\n",
      "2         684000000\n",
      "3        1012000000\n",
      "4        1153000000\n",
      "            ...    \n",
      "19840      -2911000\n",
      "19841         69000\n",
      "19842       7365000\n",
      "19843       9552000\n",
      "19844       9492000\n",
      "Name: Net Income, Length: 19845, dtype: int64\n"
     ]
    }
   ],
   "source": [
    "print(df_income['Net Income'])"
   ]
  },
  {
   "cell_type": "code",
   "execution_count": 24,
   "metadata": {},
   "outputs": [],
   "source": [
    "# columns to use:\n",
    "# Shares (Diluted), Revenue, Gross Profit, Operating Expenses, Selling General & Administrative,\n",
    "# Research & Development, Depreciation & Amortization, Net Extraordinary Gains (Losses), Net Income"
   ]
  },
  {
   "cell_type": "code",
   "execution_count": 157,
   "metadata": {},
   "outputs": [],
   "source": [
    "stox = pd.read_csv('~/Desktop/stox.csv')"
   ]
  },
  {
   "cell_type": "code",
   "execution_count": 158,
   "metadata": {},
   "outputs": [],
   "source": [
    "gd = []\n",
    "for i in range(len(stox[\"etf\"])):\n",
    "    perc = (float(stox[\"Growth since 2016\"][i][:-1]) / 100) + 1\n",
    "    div = (float(stox[\"dividend yield\"][i][:-1]) / 100) + 1\n",
    "    gd += [[perc, div]]"
   ]
  },
  {
   "cell_type": "code",
   "execution_count": 159,
   "metadata": {},
   "outputs": [],
   "source": [
    "tenyearyield = []\n",
    "counter = 0\n",
    "for perc,div in gd:\n",
    "    startval = 100\n",
    "    annual_increase = (perc)**(1/5)\n",
    "    for i in range(10):\n",
    "        startval *= annual_increase\n",
    "        startval *= div\n",
    "    tenyearyield += [[startval, stox[\"etf\"][counter]]]\n",
    "    counter += 1"
   ]
  },
  {
   "cell_type": "code",
   "execution_count": 160,
   "metadata": {},
   "outputs": [
    {
     "name": "stdout",
     "output_type": "stream",
     "text": [
      "52238.860359618775 SOXL\n",
      "16227.116816938533 TECL\n",
      "8870.445258437474 USD\n",
      "7826.550929529493 ARKW\n",
      "7284.110409000001 ROM\n",
      "4900.291474601417 ARKK\n",
      "2681.562819515223 SOXX\n",
      "2469.096481943695 PSI\n",
      "2417.8094400341533 SMH\n",
      "1862.318069039263 XSD\n",
      "1769.03965082095 XITK\n",
      "1584.9865095969299 GAMR\n",
      "1572.8362809999999 PTF\n",
      "1551.2569959999996 PSJ\n",
      "1528.225140451808 XNTK\n",
      "1434.3772059667663 VGT\n",
      "1413.534409000002 SOCL\n",
      "1375.2710953963447 IYW\n",
      "1373.5947950976015 FXL\n",
      "1359.7706393808874 QTEC\n",
      "1353.6106153718924 FTEC\n",
      "1342.1681869645988 IGV\n",
      "1279.0705884323488 IGM\n",
      "1263.0089552054048 JHMT\n",
      "1253.0090357361685 SKYY\n",
      "1251.4566598854647 SPY\n",
      "1245.5920379122615 XLK\n",
      "1228.9588910118334 XSW\n",
      "1213.2529436148386 IXN\n",
      "642.6925712368701 TDIV\n",
      "332.7508508979064 IEUS\n"
     ]
    }
   ],
   "source": [
    "tenyearyield.sort(reverse=True)\n",
    "for etf in tenyearyield:\n",
    "    print(etf[0], etf[1])"
   ]
  },
  {
   "cell_type": "code",
   "execution_count": null,
   "metadata": {},
   "outputs": [],
   "source": []
  }
 ],
 "metadata": {
  "kernelspec": {
   "display_name": "Python 3",
   "language": "python",
   "name": "python3"
  },
  "language_info": {
   "codemirror_mode": {
    "name": "ipython",
    "version": 3
   },
   "file_extension": ".py",
   "mimetype": "text/x-python",
   "name": "python",
   "nbconvert_exporter": "python",
   "pygments_lexer": "ipython3",
   "version": "3.9.0"
  }
 },
 "nbformat": 4,
 "nbformat_minor": 2
}
