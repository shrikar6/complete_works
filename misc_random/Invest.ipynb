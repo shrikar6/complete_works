{
 "cells": [
  {
   "cell_type": "code",
   "execution_count": 2,
   "metadata": {},
   "outputs": [],
   "source": [
    "import pandas as pd"
   ]
  },
  {
   "cell_type": "code",
   "execution_count": 21,
   "metadata": {},
   "outputs": [],
   "source": [
    "df_income = pd.read_csv('~/Downloads/us-income-annual.csv',sep=';')"
   ]
  },
  {
   "cell_type": "code",
   "execution_count": 22,
   "metadata": {},
   "outputs": [
    {
     "data": {
      "text/plain": [
       "Index(['Ticker', 'SimFinId', 'Currency', 'Fiscal Year', 'Fiscal Period',\n",
       "       'Report Date', 'Publish Date', 'Restated Date', 'Shares (Basic)',\n",
       "       'Shares (Diluted)', 'Revenue', 'Cost of Revenue', 'Gross Profit',\n",
       "       'Operating Expenses', 'Selling, General & Administrative',\n",
       "       'Research & Development', 'Depreciation & Amortization',\n",
       "       'Operating Income (Loss)', 'Non-Operating Income (Loss)',\n",
       "       'Interest Expense, Net', 'Pretax Income (Loss), Adj.',\n",
       "       'Abnormal Gains (Losses)', 'Pretax Income (Loss)',\n",
       "       'Income Tax (Expense) Benefit, Net',\n",
       "       'Income (Loss) from Continuing Operations',\n",
       "       'Net Extraordinary Gains (Losses)', 'Net Income',\n",
       "       'Net Income (Common)'],\n",
       "      dtype='object')"
      ]
     },
     "execution_count": 22,
     "metadata": {},
     "output_type": "execute_result"
    }
   ],
   "source": [
    "df_income.columns"
   ]
  },
  {
   "cell_type": "code",
   "execution_count": null,
   "metadata": {},
   "outputs": [],
   "source": [
    "print(df_income['Net Income'])"
   ]
  },
  {
   "cell_type": "code",
   "execution_count": 24,
   "metadata": {},
   "outputs": [],
   "source": [
    "# columns to use:\n",
    "# Shares (Diluted), Revenue, Gross Profit, Operating Expenses, Selling General & Administrative,\n",
    "# Research & Development, Depreciation & Amortization, Net Extraordinary Gains (Losses), Net Income"
   ]
  },
  {
   "cell_type": "code",
   "execution_count": 157,
   "metadata": {},
   "outputs": [],
   "source": [
    "stox = pd.read_csv('~/Desktop/stox.csv')"
   ]
  },
  {
   "cell_type": "code",
   "execution_count": 158,
   "metadata": {},
   "outputs": [],
   "source": [
    "gd = []\n",
    "for i in range(len(stox[\"etf\"])):\n",
    "    perc = (float(stox[\"Growth since 2016\"][i][:-1]) / 100) + 1\n",
    "    div = (float(stox[\"dividend yield\"][i][:-1]) / 100) + 1\n",
    "    gd += [[perc, div]]"
   ]
  },
  {
   "cell_type": "code",
   "execution_count": 159,
   "metadata": {},
   "outputs": [],
   "source": [
    "tenyearyield = []\n",
    "counter = 0\n",
    "for perc,div in gd:\n",
    "    startval = 100\n",
    "    annual_increase = (perc)**(1/5)\n",
    "    for i in range(10):\n",
    "        startval *= annual_increase\n",
    "        startval *= div\n",
    "    tenyearyield += [[startval, stox[\"etf\"][counter]]]\n",
    "    counter += 1"
   ]
  },
  {
   "cell_type": "code",
   "execution_count": null,
   "metadata": {},
   "outputs": [],
   "source": [
    "tenyearyield.sort(reverse=True)\n",
    "for etf in tenyearyield:\n",
    "    print(etf[0], etf[1])"
   ]
  },
  {
   "cell_type": "code",
   "execution_count": null,
   "metadata": {},
   "outputs": [],
   "source": []
  }
 ],
 "metadata": {
  "kernelspec": {
   "display_name": "Python 3",
   "language": "python",
   "name": "python3"
  },
  "language_info": {
   "codemirror_mode": {
    "name": "ipython",
    "version": 3
   },
   "file_extension": ".py",
   "mimetype": "text/x-python",
   "name": "python",
   "nbconvert_exporter": "python",
   "pygments_lexer": "ipython3",
   "version": "3.9.0"
  }
 },
 "nbformat": 4,
 "nbformat_minor": 2
}
