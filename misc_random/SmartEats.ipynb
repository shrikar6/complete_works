{
 "cells": [
  {
   "cell_type": "code",
   "execution_count": 1,
   "metadata": {
    "collapsed": false
   },
   "outputs": [],
   "source": [
    "import numpy as np\n",
    "import numpy.linalg as la"
   ]
  },
  {
   "cell_type": "code",
   "execution_count": 6,
   "metadata": {
    "collapsed": true
   },
   "outputs": [],
   "source": [
    "fulloptimum = np.array((184.4,71.5,139.5,146.5))\n",
    "optimum = fulloptimum / 2"
   ]
  },
  {
   "cell_type": "code",
   "execution_count": 15,
   "metadata": {
    "collapsed": false
   },
   "outputs": [
    {
     "name": "stdout",
     "output_type": "stream",
     "text": [
      "[5 5 5 3]\n",
      "[0 1 1 1]\n"
     ]
    }
   ],
   "source": [
    "#DINNER\n",
    "items = {'GDD1':0,\n",
    "         'GDD2':0,\n",
    "         'H1':0,\n",
    "         'H2':0}\n",
    "itemsmax = np.zeros(4,dtype=int)\n",
    "macros = np.array(((12.8,2.7,2,41.1),\n",
    "                   (3.5,0,0,20),\n",
    "                   (0,5,4,43),\n",
    "                   (23,1,1,18)))\n",
    "for i in range(4):\n",
    "    smallestnorm = la.norm(optimum)\n",
    "    a = np.zeros(4,dtype=int)\n",
    "    while True:\n",
    "        a[i] += 1\n",
    "        norm = la.norm(optimum - macros@a)\n",
    "        if norm > smallestnorm:\n",
    "            break\n",
    "        else:\n",
    "            smallestnorm = norm\n",
    "    itemsmax[i] = a[i]\n",
    "\n",
    "print(itemsmax)\n",
    "best = np.zeros(4,dtype=int)\n",
    "bestnorm = la.norm(optimum)\n",
    "for i in range(itemsmax[0]):\n",
    "    for j in range(itemsmax[1]):\n",
    "        for k in range(itemsmax[2]):\n",
    "            for l in range(itemsmax[3]):\n",
    "                temp = np.array((i,j,k,l))\n",
    "                tempnorm = la.norm(optimum - macros@temp)\n",
    "                if tempnorm <= bestnorm:\n",
    "                    best = temp\n",
    "                    bestnorm = tempnorm\n",
    "print(best)"
   ]
  },
  {
   "cell_type": "code",
   "execution_count": null,
   "metadata": {
    "collapsed": true
   },
   "outputs": [],
   "source": []
  }
 ],
 "metadata": {
  "kernelspec": {
   "display_name": "Python 3",
   "language": "python",
   "name": "python3"
  },
  "language_info": {
   "codemirror_mode": {
    "name": "ipython",
    "version": 3
   },
   "file_extension": ".py",
   "mimetype": "text/x-python",
   "name": "python",
   "nbconvert_exporter": "python",
   "pygments_lexer": "ipython3",
   "version": "3.6.0"
  }
 },
 "nbformat": 4,
 "nbformat_minor": 2
}
