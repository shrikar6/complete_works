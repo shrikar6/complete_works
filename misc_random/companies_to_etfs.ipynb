{
 "cells": [
  {
   "cell_type": "code",
   "execution_count": 64,
   "id": "36845e26-c1c1-4c89-bd3b-6e7f98faaacc",
   "metadata": {},
   "outputs": [],
   "source": [
    "import csv\n",
    "import numpy as np\n",
    "import os\n",
    "import pickle"
   ]
  },
  {
   "cell_type": "code",
   "execution_count": 43,
   "id": "7a95baa6-1232-4948-9fe1-fac2e0ac453b",
   "metadata": {},
   "outputs": [],
   "source": [
    "companies_to_etfs = {}\n",
    "with open(\"pickles/companies_to_etfs.pkl\", 'rb') as file:\n",
    "    companies_to_etfs = pickle.load(file)"
   ]
  },
  {
   "cell_type": "code",
   "execution_count": 155,
   "id": "ecfcd898-f7cf-4981-bf1e-f45d4062e365",
   "metadata": {},
   "outputs": [
    {
     "name": "stdout",
     "output_type": "stream",
     "text": [
      "{'HLAL': 0.18, 'CDEI': 0.18, 'LRGF': 0.18, 'QUAL': 0.18, 'OUSA': 0.17, 'JCTR': 0.17, 'EUSA': 0.17, 'SIZE': 0.17, 'USSG': 0.17, 'SUSL': 0.17, 'PINK': 0.17, 'DSI': 0.16, 'FAD': 0.16, 'DFSU': 0.16, 'ILCG': 0.16, 'SPUS': 0.16, 'QRFT': 0.15, 'NACP': 0.15, 'HKND': 0.14, 'VONG': 0.14, 'JHML': 0.14, 'YPS': 0.14, 'GGUS': 0.13, 'XYLE': 0.13, 'LCTU': 0.13, 'SPXT': 0.13, 'WOMN': 0.13, 'GSLC': 0.13, 'SSPY': 0.13, 'EFIV': 0.12, 'IWF': 0.12, 'SNPE': 0.12, 'USCA': 0.12, 'MGC': 0.12, 'USCL': 0.12, 'QUS': 0.12, 'KOMP': 0.12, 'STXG': 0.12, 'ESGU': 0.11, 'JQUA': 0.11, 'NZUS': 0.11, 'SPXN': 0.11, 'DUBS': 0.11, 'CVLC': 0.1, 'RAFE': 0.1, 'VOO': 0.1, 'JUST': 0.1, 'XYLD': 0.1, 'XVV': 0.1, 'VV': 0.1, 'XYLG': 0.1, 'DFAC': 0.1, 'DCOR': 0.1, 'DFAU': 0.1, 'QVML': 0.1, 'XRMI': 0.1, 'PBP': 0.1, 'ESGV': 0.1, 'IWS': 0.1, 'SPXE': 0.1, 'SPYX': 0.09, 'NSPI': 0.09, 'PTLC': 0.09, 'XTR': 0.09, 'VONE': 0.09, 'BKLC': 0.09, 'IETC': 0.09, 'GSUS': 0.09, 'SPY': 0.09, 'SPYI': 0.09, 'GPIX': 0.09, 'IVV': 0.09, 'SPLG': 0.09, 'ONOF': 0.09, 'STRV': 0.09, 'XCLR': 0.09, 'DGRW': 0.09, 'VTI': 0.09, 'PBUS': 0.09, 'VTHR': 0.09, 'VOTE': 0.09, 'NTSX': 0.09, 'SCHX': 0.09, 'BBUS': 0.08, 'SPUU': 0.08, 'USPX': 0.08, 'GUSA': 0.08, 'SPTM': 0.08, 'ILCB': 0.08, 'IWB': 0.08, 'SCHK': 0.08, 'IYY': 0.08, 'DFUS': 0.08, 'FEX': 0.08, 'RVRB': 0.08, 'SCHB': 0.08, 'QDPL': 0.08, 'IWV': 0.08, 'ITOT': 0.08, 'SQEW': 0.08, 'EDOC': 4.4, 'AHOY': 4.16, 'TINY': 4.14, 'FIW': 4.04, 'GNOM': 3.99, 'BEEZ': 3.96, 'STNC': 3.83, 'BCUS': 3.68, 'SUPP': 3.65, 'MOHR': 2.78, 'MOAT': 2.46, 'AMID': 2.46, 'HELX': 2.09, 'IPDP': 2.08, 'VSDA': 2.0, 'MDEV': 1.95, 'AIVL': 1.63, 'RSPH': 1.47, 'GDOC': 1.46, 'HTEC': 1.43, 'HAPY': 1.4, 'DEMZ': 1.37, 'VIRS': 1.37, 'MOTE': 1.25, 'KLDW': 1.24, 'VNMC': 1.22, 'MOTG': 1.07, 'ESGA': 1.05, 'WDNA': 1.05, 'LCLG': 1.04, 'IWP': 0.97, 'PSET': 0.96, 'PEXL': 0.95, 'ROE': 0.91, 'BUZZ': 0.9, 'TDVG': 0.81, 'IMCG': 0.74, 'XLV': 0.72, 'DFNV': 0.71, 'VHT': 0.7, 'IYH': 0.7, 'SMOT': 0.69, 'FHLC': 0.64, 'CURE': 0.61, 'ESGY': 0.59, 'RXL': 0.53, 'IXJ': 0.53, 'RSPE': 0.52, 'TTAC': 0.5, 'KRMA': 0.48, 'CVMC': 0.47, 'SUSA': 0.46, 'AVMC': 0.45, 'FLSP': 0.44, 'CVSE': 0.42, 'FTQI': 0.39, 'TPLE': 0.38, 'TPLC': 0.38, 'IMCB': 0.38, 'SNPV': 0.38, 'FXH': 0.37, 'VUSE': 0.36, 'IWR': 0.36, 'CSM': 0.34, 'ETHO': 0.34, 'TVAL': 0.34, 'JPME': 0.34, 'HYLG': 0.34, 'RNLC': 0.34, 'FTC': 0.32, 'GINN': 0.31, 'JMOM': 0.3, 'USMF': 0.29, 'CRTC': 0.27, 'NULG': 0.27, 'FMDE': 0.27, 'DFVX': 0.27, 'HLGE': 0.27, 'BFOR': 0.26, 'ONEV': 0.25, 'MGK': 0.25, 'EVUS': 0.24, 'STXD': 0.24, 'GLOF': 0.24, 'SPGM': 0.24, 'HAPI': 0.23, 'VOOV': 0.22, 'MODL': 0.21, 'PFM': 0.21, 'CFA': 0.21, 'CFO': 0.21, 'USNZ': 0.2, 'SPYV': 0.2, 'IVE': 0.2, 'GSEW': 0.2, 'RSP': 0.2, 'IUSV': 0.19, 'VUG': 0.19, 'SCHV': 0.18, 'USXF': 0.18, 'EQAL': 0.08, 'ISPY': 0.08, 'GDE': 0.07, 'LGH': 0.07, 'TSPA': 0.07, 'AVLC': 0.07, 'SFY': 0.07, 'ESG': 0.07, 'ACVF': 0.07, 'PHDG': 0.07, 'TOK': 0.07, 'QWLD': 0.07, 'NZAC': 0.07, 'KOKU': 0.07, 'SSO': 0.06, 'SPXL': 0.06, 'URTH': 0.06, 'EPS': 0.06, 'DGRO': 0.06, 'IUS': 0.06, 'AVSU': 0.06, 'ZZZ': 0.06, 'FNDX': 0.06, 'VSLU': 0.06, 'FEUS': 0.06, 'TILT': 0.06, 'GLOV': 0.06, 'AVUS': 0.06, 'ACWI': 0.06, 'FNDB': 0.05, 'VT': 0.05, 'CRBN': 0.05, 'NANC': 0.05, 'DTD': 0.05, 'UPRO': 0.05, 'DLN': 0.05, 'DEUS': 0.04, 'RWL': 0.04, 'VONV': 0.04, 'GVUS': 0.04, 'HCMT': 0.04, 'PRF': 0.04, 'IWD': 0.04, 'VLU': 0.03, 'GSPY': 0.03, 'ONEO': 0.03, 'MMTM': 0.02, 'CCMG': 0.0}\n"
     ]
    }
   ],
   "source": [
    "company = \"A\"\n",
    "companies_to_etfs[company] = {}\n",
    "\n",
    "folder_path = 'etf_csvs'\n",
    "for filename in os.listdir(folder_path):\n",
    "    if filename == \".DS_Store\":\n",
    "        continue\n",
    "    with open(os.path.join(folder_path, filename), newline='') as csvfile:\n",
    "        csvreader = csv.reader(csvfile, delimiter=',')\n",
    "        next(csvreader)\n",
    "        for row in csvreader:\n",
    "            etf = row[0]\n",
    "            weight = float(row[3][:-1])\n",
    "            if etf not in companies_to_etfs[company]:\n",
    "                companies_to_etfs[company][etf] = weight\n",
    "            else:\n",
    "                companies_to_etfs[company][etf] += weight\n",
    "\n",
    "print(companies_to_etfs[company])"
   ]
  },
  {
   "cell_type": "code",
   "execution_count": 156,
   "id": "01b9bbd8-5b84-44c2-8d4d-e51989f3906d",
   "metadata": {},
   "outputs": [],
   "source": [
    "with open(\"pickles/companies_to_etfs.pkl\", 'wb') as file:\n",
    "     pickle.dump(companies_to_etfs, file)"
   ]
  },
  {
   "cell_type": "code",
   "execution_count": 157,
   "id": "05837e5f-07f7-422f-b8f7-4dca2ee16eed",
   "metadata": {},
   "outputs": [],
   "source": [
    "etfs_dict = {}\n",
    "\n",
    "for company in companies_to_etfs:\n",
    "    for etf in companies_to_etfs[company]:\n",
    "        if etf not in etfs_dict:\n",
    "            etfs_dict[etf] = [0,0]\n",
    "        etfs_dict[etf][0] += 1\n",
    "        etfs_dict[etf][1] += companies_to_etfs[company][etf]"
   ]
  },
  {
   "cell_type": "code",
   "execution_count": null,
   "id": "04a33165-d715-4d23-a08f-0850f05e7aa3",
   "metadata": {},
   "outputs": [],
   "source": [
    "covered_etfs = set({\"XLK\", \"XLC\", \"PPH\", \"IYC\", \"XLV\"})\n",
    "covered_companies = set()\n",
    "new_etfs_dict = {}\n",
    "\n",
    "for company in companies_to_etfs:\n",
    "    for etf in covered_etfs:\n",
    "        if etf in companies_to_etfs[company]:\n",
    "            covered_companies.add(company)\n",
    "\n",
    "# covered_companies = set([\"PYPL\", \"MA\", \"AXP\"])\n",
    "            \n",
    "for company in companies_to_etfs:\n",
    "    for etf in companies_to_etfs[company]:\n",
    "        if etf not in new_etfs_dict:\n",
    "            new_etfs_dict[etf] = [0,0,0]\n",
    "        new_etfs_dict[etf][0] += 1\n",
    "        if company not in covered_companies:\n",
    "            new_etfs_dict[etf][1] += companies_to_etfs[company][etf]\n",
    "        else:\n",
    "            new_etfs_dict[etf][2] += companies_to_etfs[company][etf]\n",
    "        # new_etfs_dict[etf][0] += 1\n",
    "        # if company not in covered_companies:\n",
    "        #     new_etfs_dict[etf][2] += companies_to_etfs[company][etf]\n",
    "        # else:\n",
    "        #     new_etfs_dict[etf][1] += companies_to_etfs[company][etf]\n",
    "\n",
    "etfs = list(new_etfs_dict)\n",
    "weight = [new_etfs_dict[etf][1] for etf in etfs]\n",
    "\n",
    "argsorted = np.argsort(weight)[::-1]\n",
    "\n",
    "for i in argsorted:\n",
    "    print(etfs[i], new_etfs_dict[etfs[i]])"
   ]
  },
  {
   "cell_type": "code",
   "execution_count": null,
   "id": "7a6e8f0b-9d73-4a96-b3aa-9596d91bc8ef",
   "metadata": {},
   "outputs": [],
   "source": [
    "# \"XLK\" 26%, \"XLC\" 6%, \"PPH\" 12%, \"IYC\" 10%, \"XLV\" 22%, \"IYJ\" 18%, \"QTUM\" 6%"
   ]
  },
  {
   "cell_type": "code",
   "execution_count": 364,
   "id": "6db3f512-fdea-444d-80ee-a63140e9c32e",
   "metadata": {},
   "outputs": [
    {
     "name": "stdout",
     "output_type": "stream",
     "text": [
      "IBM\n",
      "MSFT\n",
      "INTC\n",
      "ACN\n",
      "QCOM\n",
      "NVDA\n",
      "TXN\n",
      "NXPI\n",
      "AMD\n"
     ]
    }
   ],
   "source": [
    "# len(covered_companies)\n",
    "\n",
    "for company in companies_to_etfs:\n",
    "    if \"XLK\" in companies_to_etfs[company] and \"QTUM\" in companies_to_etfs[company]:\n",
    "        print(company)"
   ]
  },
  {
   "cell_type": "code",
   "execution_count": 189,
   "id": "d53bc805-a193-4689-bd5f-192f171960bc",
   "metadata": {},
   "outputs": [],
   "source": [
    "from ortools.linear_solver import pywraplp\n",
    "import time\n",
    "\n",
    "solver = pywraplp.Solver.CreateSolver('SCIP')\n",
    "\n",
    "variables = {}\n",
    "\n",
    "for etf in etfs_dict:\n",
    "    if etfs_dict[etf][0] == 1:\n",
    "        continue\n",
    "    variables[etf] = solver.IntVar(0.0, 1.0, etf)\n",
    "\n",
    "for company in companies_to_etfs:\n",
    "    new_constraint = 0\n",
    "    for etf in companies_to_etfs[company]:\n",
    "        if etf in variables:\n",
    "            new_constraint += variables[etf]\n",
    "    solver.Add(new_constraint >= 1)\n",
    "\n",
    "obj_func = 0\n",
    "for etf in variables:\n",
    "    obj_func += variables[etf]*etfs_dict[etf][0]*(100 - etfs_dict[etf][1])\n",
    "\n",
    "solver.Minimize(obj_func)"
   ]
  },
  {
   "cell_type": "code",
   "execution_count": 190,
   "id": "09178727-14f0-49e0-8803-e42192475f14",
   "metadata": {},
   "outputs": [
    {
     "name": "stdout",
     "output_type": "stream",
     "text": [
      "924\n",
      "50\n"
     ]
    }
   ],
   "source": [
    "print(solver.NumVariables())\n",
    "print(solver.NumConstraints())"
   ]
  },
  {
   "cell_type": "code",
   "execution_count": 191,
   "id": "18890dea-9c08-41f9-a30f-4899a00c4578",
   "metadata": {},
   "outputs": [
    {
     "name": "stdout",
     "output_type": "stream",
     "text": [
      "elapsed time: 0.02744293212890625\n"
     ]
    }
   ],
   "source": [
    "start = time.time()\n",
    "status = solver.Solve()\n",
    "end = time.time()\n",
    "print('elapsed time: ' + str(end - start))"
   ]
  },
  {
   "cell_type": "code",
   "execution_count": 196,
   "id": "2d1e6893-49ae-49ff-9273-a2c1480604d5",
   "metadata": {},
   "outputs": [
    {
     "name": "stdout",
     "output_type": "stream",
     "text": [
      "MMTM 1.0\n",
      "AVSD 1.0\n",
      "AVEM 1.0\n"
     ]
    }
   ],
   "source": [
    "if status == pywraplp.Solver.OPTIMAL:\n",
    "    for etf in variables:\n",
    "        if variables[etf].solution_value() > 0:\n",
    "            print(etf, variables[etf].solution_value())\n",
    "else:\n",
    "    print('The problem does not have an optimal solution.')"
   ]
  },
  {
   "cell_type": "code",
   "execution_count": 195,
   "id": "a4a98433-e6e6-4cb5-8d2e-d05f53465133",
   "metadata": {},
   "outputs": [
    {
     "data": {
      "text/plain": [
       "[2, 0.15000000000000002]"
      ]
     },
     "execution_count": 195,
     "metadata": {},
     "output_type": "execute_result"
    }
   ],
   "source": [
    "etfs_dict[\"AVEM\"]"
   ]
  },
  {
   "cell_type": "code",
   "execution_count": null,
   "id": "016c7b25-1918-40af-95b1-921ebb64ee32",
   "metadata": {},
   "outputs": [],
   "source": []
  }
 ],
 "metadata": {
  "kernelspec": {
   "display_name": "Python 3 (ipykernel)",
   "language": "python",
   "name": "python3"
  },
  "language_info": {
   "codemirror_mode": {
    "name": "ipython",
    "version": 3
   },
   "file_extension": ".py",
   "mimetype": "text/x-python",
   "name": "python",
   "nbconvert_exporter": "python",
   "pygments_lexer": "ipython3",
   "version": "3.12.1"
  }
 },
 "nbformat": 4,
 "nbformat_minor": 5
}
