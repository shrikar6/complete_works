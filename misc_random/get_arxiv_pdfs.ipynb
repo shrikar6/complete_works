{
 "cells": [
  {
   "cell_type": "code",
   "execution_count": 1,
   "metadata": {},
   "outputs": [],
   "source": [
    "from bs4 import BeautifulSoup\n",
    "\n",
    "import os\n",
    "import requests"
   ]
  },
  {
   "cell_type": "code",
   "execution_count": 2,
   "metadata": {},
   "outputs": [],
   "source": [
    "response = requests.get('https://arxiv.org/list/cs.AI/recent?skip=581&show=2000')"
   ]
  },
  {
   "cell_type": "code",
   "execution_count": 3,
   "metadata": {},
   "outputs": [],
   "source": [
    "soup = BeautifulSoup(response.text, 'html.parser')"
   ]
  },
  {
   "cell_type": "code",
   "execution_count": null,
   "metadata": {},
   "outputs": [],
   "source": [
    "dir_path = '$HOME/Desktop/pdfs'\n",
    "os.makedirs(dir_path, exist_ok=True)\n",
    "\n",
    "i = 0\n",
    "for element in soup.find_all('a', title='Download PDF'):\n",
    "    url = 'https://arxiv.org' + element.get('href')\n",
    "    pdf_response = requests.get(url)\n",
    "    with open(f'{dir_path}/paper_{i}.pdf', 'wb') as f:\n",
    "        f.write(pdf_response.content)\n",
    "    i += 1\n",
    "    print(f'Downloaded paper {i}')\n",
    "\n"
   ]
  },
  {
   "cell_type": "code",
   "execution_count": null,
   "metadata": {},
   "outputs": [],
   "source": []
  }
 ],
 "metadata": {
  "kernelspec": {
   "display_name": "Python 3",
   "language": "python",
   "name": "python3"
  },
  "language_info": {
   "codemirror_mode": {
    "name": "ipython",
    "version": 3
   },
   "file_extension": ".py",
   "mimetype": "text/x-python",
   "name": "python",
   "nbconvert_exporter": "python",
   "pygments_lexer": "ipython3",
   "version": "3.12.1"
  }
 },
 "nbformat": 4,
 "nbformat_minor": 2
}
