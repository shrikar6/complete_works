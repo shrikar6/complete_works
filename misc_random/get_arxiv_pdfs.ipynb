{
 "cells": [
  {
   "cell_type": "code",
   "execution_count": 1,
   "metadata": {},
   "outputs": [],
   "source": [
    "from bs4 import BeautifulSoup\n",
    "\n",
    "import os\n",
    "import requests"
   ]
  },
  {
   "cell_type": "code",
   "execution_count": 2,
   "metadata": {},
   "outputs": [],
   "source": [
    "response = requests.get('https://arxiv.org/list/cs.AI/recent?skip=581&show=2000')"
   ]
  },
  {
   "cell_type": "code",
   "execution_count": 3,
   "metadata": {},
   "outputs": [],
   "source": [
    "soup = BeautifulSoup(response.text, 'html.parser')"
   ]
  },
  {
   "cell_type": "code",
   "execution_count": 7,
   "metadata": {},
   "outputs": [
    {
     "name": "stdout",
     "output_type": "stream",
     "text": [
      "Downloaded paper 1\n",
      "Downloaded paper 2\n",
      "Downloaded paper 3\n",
      "Downloaded paper 4\n",
      "Downloaded paper 5\n",
      "Downloaded paper 6\n",
      "Downloaded paper 7\n",
      "Downloaded paper 8\n",
      "Downloaded paper 9\n",
      "Downloaded paper 10\n",
      "Downloaded paper 11\n",
      "Downloaded paper 12\n",
      "Downloaded paper 13\n",
      "Downloaded paper 14\n",
      "Downloaded paper 15\n",
      "Downloaded paper 16\n",
      "Downloaded paper 17\n",
      "Downloaded paper 18\n",
      "Downloaded paper 19\n",
      "Downloaded paper 20\n",
      "Downloaded paper 21\n",
      "Downloaded paper 22\n",
      "Downloaded paper 23\n",
      "Downloaded paper 24\n",
      "Downloaded paper 25\n",
      "Downloaded paper 26\n",
      "Downloaded paper 27\n",
      "Downloaded paper 28\n",
      "Downloaded paper 29\n",
      "Downloaded paper 30\n",
      "Downloaded paper 31\n",
      "Downloaded paper 32\n",
      "Downloaded paper 33\n",
      "Downloaded paper 34\n",
      "Downloaded paper 35\n",
      "Downloaded paper 36\n",
      "Downloaded paper 37\n",
      "Downloaded paper 38\n",
      "Downloaded paper 39\n",
      "Downloaded paper 40\n",
      "Downloaded paper 41\n",
      "Downloaded paper 42\n",
      "Downloaded paper 43\n",
      "Downloaded paper 44\n",
      "Downloaded paper 45\n",
      "Downloaded paper 46\n",
      "Downloaded paper 47\n",
      "Downloaded paper 48\n",
      "Downloaded paper 49\n",
      "Downloaded paper 50\n",
      "Downloaded paper 51\n",
      "Downloaded paper 52\n",
      "Downloaded paper 53\n",
      "Downloaded paper 54\n",
      "Downloaded paper 55\n",
      "Downloaded paper 56\n",
      "Downloaded paper 57\n",
      "Downloaded paper 58\n",
      "Downloaded paper 59\n",
      "Downloaded paper 60\n",
      "Downloaded paper 61\n",
      "Downloaded paper 62\n",
      "Downloaded paper 63\n",
      "Downloaded paper 64\n",
      "Downloaded paper 65\n",
      "Downloaded paper 66\n",
      "Downloaded paper 67\n",
      "Downloaded paper 68\n",
      "Downloaded paper 69\n",
      "Downloaded paper 70\n",
      "Downloaded paper 71\n",
      "Downloaded paper 72\n",
      "Downloaded paper 73\n",
      "Downloaded paper 74\n",
      "Downloaded paper 75\n",
      "Downloaded paper 76\n",
      "Downloaded paper 77\n",
      "Downloaded paper 78\n",
      "Downloaded paper 79\n",
      "Downloaded paper 80\n",
      "Downloaded paper 81\n",
      "Downloaded paper 82\n",
      "Downloaded paper 83\n",
      "Downloaded paper 84\n",
      "Downloaded paper 85\n",
      "Downloaded paper 86\n"
     ]
    }
   ],
   "source": [
    "dir_path = '$HOME/Desktop/pdfs'\n",
    "os.makedirs(dir_path, exist_ok=True)\n",
    "\n",
    "i = 0\n",
    "for element in soup.find_all('a', title='Download PDF'):\n",
    "    url = 'https://arxiv.org' + element.get('href')\n",
    "    pdf_response = requests.get(url)\n",
    "    with open(f'{dir_path}/paper_{i}.pdf', 'wb') as f:\n",
    "        f.write(pdf_response.content)\n",
    "    i += 1\n",
    "    print(f'Downloaded paper {i}')\n",
    "\n"
   ]
  },
  {
   "cell_type": "code",
   "execution_count": null,
   "metadata": {},
   "outputs": [],
   "source": []
  }
 ],
 "metadata": {
  "kernelspec": {
   "display_name": "Python 3",
   "language": "python",
   "name": "python3"
  },
  "language_info": {
   "codemirror_mode": {
    "name": "ipython",
    "version": 3
   },
   "file_extension": ".py",
   "mimetype": "text/x-python",
   "name": "python",
   "nbconvert_exporter": "python",
   "pygments_lexer": "ipython3",
   "version": "3.12.1"
  }
 },
 "nbformat": 4,
 "nbformat_minor": 2
}
