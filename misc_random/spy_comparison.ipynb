{
 "cells": [
  {
   "cell_type": "code",
   "execution_count": 2,
   "id": "3bfaa33b",
   "metadata": {},
   "outputs": [],
   "source": [
    "import pandas as pd"
   ]
  },
  {
   "cell_type": "code",
   "execution_count": 12,
   "id": "unusual-making",
   "metadata": {},
   "outputs": [
    {
     "name": "stdout",
     "output_type": "stream",
     "text": [
      "184.56511453875686\n",
      "-133.48966005675635\n",
      "-120.14069405108071\n",
      "350.27638746628963\n",
      "-259.6052776898995\n",
      "-233.64474992090953\n"
     ]
    }
   ],
   "source": [
    "spy = pd.read_csv(\"/Users/shrikar.amirisetty/Desktop/etf_historical_prices/SPY.csv\")\n",
    "other = pd.read_csv(\"/Users/shrikar.amirisetty/Desktop/etf_historical_prices/QQQ.csv\")\n",
    "\n",
    "spy_movements = []\n",
    "for i in range(len(spy['Close']) - 1, 0, -1):\n",
    "    spy_movements.append(100*(spy['Close'][i]/spy['Close'][i-1] - 1))\n",
    "\n",
    "other_movements = []\n",
    "for i in range(len(other['Close']) - 1, 0, -1):\n",
    "    other_movements.append(100*(other['Close'][i]/other['Close'][i-1] - 1))\n",
    "\n",
    "# if other['Date'][0] == '05/16/2023':\n",
    "#     other_movements = other_movements[1:]\n",
    "    \n",
    "plus_points = 0\n",
    "minus_points = 0\n",
    "for i in range(len(other_movements)):\n",
    "    if spy_movements[i] > 0:\n",
    "        plus_points += other_movements[i] - spy_movements[i]\n",
    "    else:\n",
    "        minus_points += (other_movements[i] - spy_movements[i])*(abs(other_movements[i] - spy_movements[i]))\n",
    "print(plus_points)\n",
    "print(minus_points)\n",
    "print(minus_points*0.9)\n",
    "\n",
    "plus_points_2 = 0\n",
    "minus_points_2 = 0\n",
    "for i in range(len(other_movements)):\n",
    "    if other_movements[i] > 0:\n",
    "        plus_points_2 += other_movements[i] - spy_movements[i]\n",
    "    else:\n",
    "        minus_points_2 += (other_movements[i] - spy_movements[i])*(abs(other_movements[i] - spy_movements[i]))\n",
    "print(plus_points_2)\n",
    "print(minus_points_2)\n",
    "print(minus_points_2*0.9)"
   ]
  },
  {
   "cell_type": "code",
   "execution_count": 4,
   "id": "rising-trade",
   "metadata": {},
   "outputs": [
    {
     "data": {
      "text/plain": [
       "True"
      ]
     },
     "execution_count": 4,
     "metadata": {},
     "output_type": "execute_result"
    }
   ],
   "source": [
    "spy = pd.read_csv(\"/Users/shrikar.amirisetty/Desktop/etf_historical_prices/spy_nasdaq.csv\")\n",
    "other = pd.read_csv(\"/Users/shrikar.amirisetty/Desktop/etf_historical_prices/other.csv\")\n",
    "\n",
    "all(spy['Date'] == other['Date'])"
   ]
  },
  {
   "cell_type": "code",
   "execution_count": null,
   "id": "acquired-hostel",
   "metadata": {},
   "outputs": [],
   "source": [
    "spy_movements"
   ]
  },
  {
   "cell_type": "code",
   "execution_count": null,
   "id": "answering-processing",
   "metadata": {},
   "outputs": [],
   "source": [
    "spy_movements"
   ]
  },
  {
   "cell_type": "code",
   "execution_count": null,
   "id": "animated-sewing",
   "metadata": {},
   "outputs": [],
   "source": []
  }
 ],
 "metadata": {
  "kernelspec": {
   "display_name": "Python 3",
   "language": "python",
   "name": "python3"
  },
  "language_info": {
   "codemirror_mode": {
    "name": "ipython",
    "version": 3
   },
   "file_extension": ".py",
   "mimetype": "text/x-python",
   "name": "python",
   "nbconvert_exporter": "python",
   "pygments_lexer": "ipython3",
   "version": "3.9.0"
  }
 },
 "nbformat": 4,
 "nbformat_minor": 5
}
