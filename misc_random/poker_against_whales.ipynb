{
  "nbformat": 4,
  "nbformat_minor": 0,
  "metadata": {
    "colab": {
      "provenance": []
    },
    "kernelspec": {
      "name": "python3",
      "display_name": "Python 3"
    },
    "language_info": {
      "name": "python"
    }
  },
  "cells": [
    {
      "cell_type": "code",
      "source": [
        "import numpy as np"
      ],
      "metadata": {
        "id": "9pCUKoTv8rtW"
      },
      "execution_count": 19,
      "outputs": []
    },
    {
      "cell_type": "code",
      "execution_count": 20,
      "metadata": {
        "id": "KHvTCtIgS2h7"
      },
      "outputs": [],
      "source": [
        "win_rates = {\n",
        "    \"AA\": 0.852, \"AKs\": 0.670, \"AQs\": 0.662, \"AJs\": 0.654, \"ATs\": 0.647, \"A9s\": 0.627, \"A8s\": 0.619, \"A7s\": 0.610, \"A6s\": 0.599, \"A5s\": 0.599, \"A4s\": 0.591, \"A3s\": 0.582, \"A2s\": 0.574,\n",
        "    \"AKo\": 0.653, \"KK\": 0.824, \"KQs\": 0.634, \"KJs\": 0.626, \"KTs\": 0.618, \"K9s\": 0.600, \"K8s\": 0.583, \"K7s\": 0.575, \"K6s\": 0.566, \"K5s\": 0.558, \"K4s\": 0.549, \"K3s\": 0.541, \"K2s\": 0.532,\n",
        "    \"AQo\": 0.644, \"KQo\": 0.615, \"QQ\": 0.799, \"QJs\": 0.603, \"QTs\": 0.595, \"Q9s\": 0.577, \"Q8s\": 0.560, \"Q7s\": 0.543, \"Q6s\": 0.536, \"Q5s\": 0.528, \"Q4s\": 0.519, \"Q3s\": 0.510, \"Q2s\": 0.502,\n",
        "    \"AJo\": 0.636, \"KJo\": 0.606, \"QJo\": 0.581, \"JJ\": 0.774, \"JTs\": 0.576, \"J9s\": 0.556, \"J8s\": 0.540, \"J7s\": 0.523, \"J6s\": 0.506, \"J5s\": 0.500, \"J4s\": 0.491, \"J3s\": 0.482, \"J2s\": 0.474,\n",
        "    \"ATo\": 0.627, \"KTo\": 0.597, \"QTo\": 0.572, \"JTo\": 0.552, \"TT\": 0.750, \"T9s\": 0.541, \"T8s\": 0.523, \"T7s\": 0.507, \"T6s\": 0.489, \"T5s\": 0.473, \"T4s\": 0.465, \"T3s\": 0.457, \"T2s\": 0.448,\n",
        "    \"A9o\": 0.608, \"K9o\": 0.578, \"Q9o\": 0.554, \"J9o\": 0.533, \"T9o\": 0.516, \"99\": 0.720, \"98s\": 0.507, \"97s\": 0.491, \"96s\": 0.474, \"95s\": 0.457, \"94s\": 0.438, \"93s\": 0.432, \"92s\": 0.424,\n",
        "    \"A8o\": 0.599, \"K8o\": 0.560, \"Q8o\": 0.536, \"J8o\": 0.515, \"T8o\": 0.498, \"98o\": 0.481, \"88\": 0.691, \"87s\": 0.480, \"86s\": 0.462, \"85s\": 0.445, \"84s\": 0.427, \"83s\": 0.409, \"82s\": 0.402,\n",
        "    \"A7o\": 0.589, \"K7o\": 0.551, \"Q7o\": 0.517, \"J7o\": 0.497, \"T7o\": 0.479, \"97o\": 0.463, \"87o\": 0.451, \"77\": 0.663, \"76s\": 0.453, \"75s\": 0.437, \"74s\": 0.419, \"73s\": 0.400, \"72s\": 0.381,\n",
        "    \"A6o\": 0.576, \"K6o\": 0.542, \"Q6o\": 0.510, \"J6o\": 0.479, \"T6o\": 0.462, \"96o\": 0.445, \"86o\": 0.433, \"76o\": 0.423, \"66\": 0.632, \"65s\": 0.431, \"64s\": 0.413, \"63s\": 0.395, \"62s\": 0.377,\n",
        "    \"A5o\": 0.577, \"K5o\": 0.533, \"Q5o\": 0.501, \"J5o\": 0.471, \"T5o\": 0.442, \"95o\": 0.427, \"85o\": 0.415, \"75o\": 0.406, \"65o\": 0.399, \"55\": 0.603, \"54s\": 0.415, \"53s\": 0.397, \"52s\": 0.379,\n",
        "    \"A4o\": 0.567, \"K4o\": 0.523, \"Q4o\": 0.491, \"J4o\": 0.462, \"T4o\": 0.435, \"94o\": 0.407, \"84o\": 0.394, \"74o\": 0.385, \"64o\": 0.380, \"54o\": 0.382, \"44\": 0.570, \"43s\": 0.387, \"42s\": 0.368,\n",
        "    \"A3o\": 0.558, \"K3o\": 0.514, \"Q3o\": 0.482, \"J3o\": 0.452, \"T3o\": 0.426, \"93o\": 0.400, \"83o\": 0.375, \"73o\": 0.366, \"63o\": 0.360, \"53o\": 0.363, \"43o\": 0.352, \"33\": 0.537, \"32s\": 0.360,\n",
        "    \"A2o\": 0.549, \"K2o\": 0.504, \"Q2o\": 0.473, \"J2o\": 0.444, \"T2o\": 0.416, \"92o\": 0.391, \"82o\": 0.368, \"72o\": 0.346, \"62o\": 0.340, \"52o\": 0.343, \"42o\": 0.332, \"32o\": 0.323, \"22\": 0.504,\n",
        "}"
      ]
    },
    {
      "cell_type": "code",
      "source": [
        "cards = []\n",
        "for suit in [\"s\", \"c\", \"d\", \"h\"]:\n",
        "    for rank in [\"A\", \"K\", \"Q\", \"J\", \"T\", \"9\", \"8\", \"7\", \"6\", \"5\", \"4\", \"3\", \"2\"]:\n",
        "        cards.append(rank + suit)"
      ],
      "metadata": {
        "id": "ErDwq6Mm8fTW"
      },
      "execution_count": 21,
      "outputs": []
    },
    {
      "cell_type": "code",
      "source": [
        "order = {\"A\": 14, \"K\": 13, \"Q\": 12, \"J\": 11, \"T\": 10, \"9\": 9, \"8\": 8, \"7\": 7, \"6\": 6, \"5\": 5, \"4\": 4, \"3\": 3, \"2\": 2}\n",
        "\n",
        "def get_hand():\n",
        "    hand = np.random.choice(cards, size=2, replace=False)\n",
        "    if hand[0][0] == hand[1][0]:\n",
        "        return hand[0][0] + hand[1][0]\n",
        "    high_card = \"\"\n",
        "    kicker = \"\"\n",
        "    if order[hand[0][0]] > order[hand[1][0]]:\n",
        "        high_card = hand[0][0]\n",
        "        kicker = hand[1][0]\n",
        "    else:\n",
        "        high_card = hand[1][0]\n",
        "        kicker = hand[0][0]\n",
        "    return high_card + kicker + (\"s\" if hand[0][1] == hand[1][1] else \"o\")"
      ],
      "metadata": {
        "id": "-GZmG1eHAR3_"
      },
      "execution_count": 22,
      "outputs": []
    },
    {
      "cell_type": "code",
      "source": [
        "thresholds = [0.6, 0.59, 0.58, 0.57, 0.56, 0.55, 0.54, 0.53, 0.52, 0.51, 0.5]\n",
        "\n",
        "for threshold in thresholds:\n",
        "    print(f\"Threshold: {threshold}\")\n",
        "\n",
        "    expected_bankroll = 0\n",
        "    for iter in range(100000):\n",
        "        bankroll = 10000\n",
        "        for _ in range(50):\n",
        "            hand = get_hand()\n",
        "            if win_rates[hand] < threshold:\n",
        "                continue\n",
        "            bankroll += np.random.choice([-1, 1], p=[1-win_rates[hand], win_rates[hand]])*10000\n",
        "            if bankroll <= 0:\n",
        "                break\n",
        "        expected_bankroll += bankroll\n",
        "\n",
        "    print(f\"Expected bankroll: {expected_bankroll/100000}\")"
      ],
      "metadata": {
        "colab": {
          "base_uri": "https://localhost:8080/"
        },
        "id": "m5aA_73A8nic",
        "outputId": "1a1483ca-630f-4375-e270-9ac22e35668e"
      },
      "execution_count": 32,
      "outputs": [
        {
          "output_type": "stream",
          "name": "stdout",
          "text": [
            "Threshold: 0.6\n",
            "Expected bankroll: 25193.4\n",
            "Threshold: 0.59\n",
            "Expected bankroll: 26089.0\n",
            "Threshold: 0.58\n",
            "Expected bankroll: 26679.1\n",
            "Threshold: 0.57\n",
            "Expected bankroll: 27677.1\n",
            "Threshold: 0.56\n",
            "Expected bankroll: 28101.0\n",
            "Threshold: 0.55\n",
            "Expected bankroll: 28135.5\n",
            "Threshold: 0.54\n",
            "Expected bankroll: 28064.6\n",
            "Threshold: 0.53\n",
            "Expected bankroll: 27819.9\n",
            "Threshold: 0.52\n",
            "Expected bankroll: 27845.2\n",
            "Threshold: 0.51\n",
            "Expected bankroll: 27371.6\n",
            "Threshold: 0.5\n",
            "Expected bankroll: 26204.2\n"
          ]
        }
      ]
    },
    {
      "cell_type": "code",
      "source": [],
      "metadata": {
        "id": "MX18xSVmbA4B"
      },
      "execution_count": null,
      "outputs": []
    }
  ]
}